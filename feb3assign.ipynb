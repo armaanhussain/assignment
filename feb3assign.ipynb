{
 "cells": [
  {
   "cell_type": "raw",
   "id": "7e2dac53-fc90-41fd-a005-a239990eafec",
   "metadata": {},
   "source": [
    "Q1. Which keyword is used to create a function? Create a function to return a list of odd numbers in the\n",
    "range of 1 to 25."
   ]
  },
  {
   "cell_type": "code",
   "execution_count": 8,
   "id": "97663316-30bb-4e80-a0cc-b220ad643476",
   "metadata": {},
   "outputs": [],
   "source": [
    "Ans1. def keyword is used to create a function , for eg. if we want to create a function add which adds two numbers then\n",
    "the syntax would be: \n",
    "def add(a,b):\n",
    "    return a+b\n",
    "\n",
    "def odd():\n",
    "    l=[]\n",
    "    for i in range(1,25):\n",
    "        if i%2 != 0:\n",
    "            l.append(i)\n",
    "    return l\n"
   ]
  },
  {
   "cell_type": "raw",
   "id": "e480e85e-7242-4bb9-8bd2-f535a7d7b652",
   "metadata": {},
   "source": [
    "Q2. Why *args and **kwargs is used in some functions? Create a function each for *args and **kwargs\n",
    "to demonstrate their use."
   ]
  },
  {
   "cell_type": "code",
   "execution_count": 10,
   "id": "18d59b77-7a4e-467d-8bb5-3a09b6eb8c6c",
   "metadata": {},
   "outputs": [
    {
     "data": {
      "text/plain": [
       "(1, 3, 4, 'ammy', 44.5)"
      ]
     },
     "execution_count": 10,
     "metadata": {},
     "output_type": "execute_result"
    }
   ],
   "source": [
    "Ans2. *args is used in the function arguments ,where the number of arguments could be as much as you want and the function \n",
    "returns a tuple out of that. for eg.\n",
    "\n",
    "def test1(*args):\n",
    "    return args\n",
    "test1(1,3,4,\"ammy\", 44.5) \n",
    "\n",
    "#output of test1 ==>> (1, 3, 4, 'ammy', 44.5)\n",
    "\n",
    "**kwargs is used where we want our agruments to be returned as a dictionary as the we call the particular function.\n",
    "for eg \n",
    "\n",
    "def test2(**kwargs):\n",
    "    return kwargs\n",
    "test2(a= 23, b = [2,4,5], money = 10000 )\n",
    "#output of test2 ==>> {'a': 23, 'b': [2, 4, 5], 'money': 10000}"
   ]
  },
  {
   "cell_type": "raw",
   "id": "0d4f94c5-ca83-40f9-ad66-4e6d8deac3b7",
   "metadata": {},
   "source": [
    "Q3. What is an iterator in python? Name the method used to initialise the iterator object and the method\n",
    "used for iteration. Use these methods to print the first five elements of the given list [2, 4, 6, 8, 10, 12, 14,\n",
    "16, 18, 20]."
   ]
  },
  {
   "cell_type": "code",
   "execution_count": null,
   "id": "1baa65c6-3229-4032-bed9-2bbfc35828f8",
   "metadata": {},
   "outputs": [],
   "source": [
    "Ans3. An iterator is an object that allows you to give one value of the variable at a time instead the whole variable at once . \n",
    "It provides two main methods:\n",
    "iter(): This method is used to initialize an iterator object. It returns an iterator for the given object.\n",
    "next(): This method is used to iterate through the elements of the object. It returns the next element in the sequence.\n",
    "\n",
    "list = [2, 4, 6, 8, 10, 12, 14,\n",
    "16, 18, 20]\n",
    "\n",
    "l = iter(list)\n",
    "\n",
    "for i in range (5):\n",
    "    print(next(l))"
   ]
  },
  {
   "cell_type": "code",
   "execution_count": null,
   "id": "2e3cdefc-c16e-4aa3-b8cf-31e4de42a3a6",
   "metadata": {},
   "outputs": [],
   "source": [
    "Q4. What is a generator function in python? Why yield keyword is used? Give an example of a generator\n",
    "function."
   ]
  },
  {
   "cell_type": "code",
   "execution_count": null,
   "id": "9a0a567d-8f73-4906-b976-40ae5ea7dac6",
   "metadata": {},
   "outputs": [],
   "source": [
    "Ans4. A generator is a special type of function which does not return a single value, instead, it returns an\n",
    "iterator object with a sequence of values. In python yield keyword is used to create a generator function.\n",
    "\n",
    "def test_fib1():\n",
    "    a,b = 0,1\n",
    "    while True:\n",
    "        yield a\n",
    "        a,b = b , a+b\n",
    "     \n",
    "fib = test_fib1()\n",
    "\n",
    "for i in range(10):\n",
    "    print(next(fib))\n"
   ]
  },
  {
   "cell_type": "code",
   "execution_count": null,
   "id": "15c3ebd6-fd53-4641-b77d-40f16af44dbf",
   "metadata": {},
   "outputs": [],
   "source": [
    "Q5. Create a generator function for prime numbers less than 1000. Use the next() method to print the\n",
    "first 20 prime numbers."
   ]
  },
  {
   "cell_type": "code",
   "execution_count": 10,
   "id": "97d3c906-d878-48c5-a552-cabaa324d3d9",
   "metadata": {},
   "outputs": [
    {
     "name": "stdout",
     "output_type": "stream",
     "text": [
      "2\n",
      "3\n",
      "5\n",
      "7\n",
      "11\n",
      "13\n",
      "17\n",
      "19\n",
      "23\n",
      "29\n",
      "31\n",
      "37\n",
      "41\n",
      "43\n",
      "47\n",
      "53\n",
      "59\n",
      "61\n",
      "67\n",
      "71\n"
     ]
    }
   ],
   "source": [
    "#Ans 5.\n",
    "def is_prime(num):\n",
    "    if num <= 1:\n",
    "        return False\n",
    "    if num <= 3:\n",
    "        return True\n",
    "    if num % 2 == 0 or num % 3 == 0:\n",
    "        return False\n",
    "    i = 5\n",
    "    while i * i <= num:\n",
    "        if num % i == 0 or num % (i + 2) == 0:\n",
    "            return False\n",
    "        i += 6\n",
    "    return True\n",
    "\n",
    "def prime_generator(limit):\n",
    "    num = 2\n",
    "    while num < limit:\n",
    "        if is_prime(num):\n",
    "            yield num\n",
    "        num += 1\n",
    "\n",
    "# Using the generator to print the first 20 prime numbers less than 1000\n",
    "prime_gen = prime_generator(1000)\n",
    "for _ in range(20):\n",
    "    print(next(prime_gen))"
   ]
  },
  {
   "cell_type": "code",
   "execution_count": null,
   "id": "ea576d72-665e-47ee-8a42-2102dd9873cc",
   "metadata": {},
   "outputs": [],
   "source": [
    "Q6. Write a python program to print the first 10 Fibonacci numbers using a while loop."
   ]
  },
  {
   "cell_type": "code",
   "execution_count": null,
   "id": "043e3fef-28a1-4ff6-94f6-4ce65a9ffbb0",
   "metadata": {},
   "outputs": [],
   "source": [
    "Ans 6. \n",
    "def test_fib1():\n",
    "    a,b = 0,1\n",
    "    while True:\n",
    "        yield a\n",
    "        a,b = b , a+b\n",
    "     \n",
    "fib = test_fib1()\n",
    "\n",
    "for i in range(10):\n",
    "    print(next(fib))\n",
    "\n"
   ]
  },
  {
   "cell_type": "code",
   "execution_count": null,
   "id": "4082303c-cf37-4ef1-a9e7-6d9ae053cbff",
   "metadata": {},
   "outputs": [],
   "source": [
    "Q7. Write a List Comprehension to iterate through the given string: ‘pwskills’.\n",
    "Expected output: ['p', 'w', 's', 'k', 'i', 'l', 'l', 's']"
   ]
  },
  {
   "cell_type": "code",
   "execution_count": 3,
   "id": "a6ef4608-945a-467f-98ab-6fe6028d2e51",
   "metadata": {},
   "outputs": [
    {
     "name": "stdout",
     "output_type": "stream",
     "text": [
      "['p', 'w', 's', 'k', 'i', 'l', 'l', 's']\n"
     ]
    }
   ],
   "source": [
    "#Ans7. \n",
    "\n",
    "s = 'pwskills'\n",
    "\n",
    "b = [i for i in s ]\n",
    "print(b)"
   ]
  },
  {
   "cell_type": "code",
   "execution_count": null,
   "id": "7264b186-29b0-4b16-addf-211cb3653e33",
   "metadata": {},
   "outputs": [],
   "source": [
    "Q8. Write a python program to check whether a given number is Palindrome or not using a while loop."
   ]
  },
  {
   "cell_type": "code",
   "execution_count": 9,
   "id": "d9a808e0-a524-401d-99e5-10712b992f70",
   "metadata": {},
   "outputs": [
    {
     "name": "stdin",
     "output_type": "stream",
     "text": [
      "Enter the number 9865\n"
     ]
    },
    {
     "name": "stdout",
     "output_type": "stream",
     "text": [
      "Not Palindrome\n"
     ]
    }
   ],
   "source": [
    "#Ans8. \n",
    "num = int(input(\"Enter the number\"))\n",
    "reverse = 0\n",
    "while num > 0:\n",
    "    remainder = num % 10\n",
    "    reverse = (reverse * 10) + remainder\n",
    "    num = num // 10\n",
    "if num == reverse:\n",
    "  print('Palindrome')\n",
    "else:\n",
    "  print(\"Not Palindrome\")\n"
   ]
  },
  {
   "cell_type": "code",
   "execution_count": null,
   "id": "4ff0a656-c79a-4b57-9e9e-d6f33006b4d5",
   "metadata": {},
   "outputs": [],
   "source": [
    "Q9. Write a code to print odd numbers from 1 to 100 using list comprehension."
   ]
  },
  {
   "cell_type": "code",
   "execution_count": 5,
   "id": "9df4e806-a0dd-48d3-9495-f0a634d0b14a",
   "metadata": {},
   "outputs": [
    {
     "data": {
      "text/plain": [
       "[1,\n",
       " 3,\n",
       " 5,\n",
       " 7,\n",
       " 9,\n",
       " 11,\n",
       " 13,\n",
       " 15,\n",
       " 17,\n",
       " 19,\n",
       " 21,\n",
       " 23,\n",
       " 25,\n",
       " 27,\n",
       " 29,\n",
       " 31,\n",
       " 33,\n",
       " 35,\n",
       " 37,\n",
       " 39,\n",
       " 41,\n",
       " 43,\n",
       " 45,\n",
       " 47,\n",
       " 49,\n",
       " 51,\n",
       " 53,\n",
       " 55,\n",
       " 57,\n",
       " 59,\n",
       " 61,\n",
       " 63,\n",
       " 65,\n",
       " 67,\n",
       " 69,\n",
       " 71,\n",
       " 73,\n",
       " 75,\n",
       " 77,\n",
       " 79,\n",
       " 81,\n",
       " 83,\n",
       " 85,\n",
       " 87,\n",
       " 89,\n",
       " 91,\n",
       " 93,\n",
       " 95,\n",
       " 97,\n",
       " 99]"
      ]
     },
     "execution_count": 5,
     "metadata": {},
     "output_type": "execute_result"
    }
   ],
   "source": [
    "#Ans9. \n",
    "l = [ i for i in range(1,101) if i%2!=0]\n",
    "l"
   ]
  },
  {
   "cell_type": "code",
   "execution_count": null,
   "id": "afe99fe2-d4bd-4e3d-ad63-4ccc266a46b5",
   "metadata": {},
   "outputs": [],
   "source": []
  }
 ],
 "metadata": {
  "kernelspec": {
   "display_name": "Python 3 (ipykernel)",
   "language": "python",
   "name": "python3"
  },
  "language_info": {
   "codemirror_mode": {
    "name": "ipython",
    "version": 3
   },
   "file_extension": ".py",
   "mimetype": "text/x-python",
   "name": "python",
   "nbconvert_exporter": "python",
   "pygments_lexer": "ipython3",
   "version": "3.10.8"
  }
 },
 "nbformat": 4,
 "nbformat_minor": 5
}
