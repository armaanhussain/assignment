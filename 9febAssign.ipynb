{
 "cells": [
  {
   "cell_type": "raw",
   "id": "f41489f8-cd73-4a30-993c-1dcbff8bb0b8",
   "metadata": {},
   "source": [
    "Q1, Create a vehicle class with an init method having instance variables as name_of_vehicle, max_speed\n",
    "and average_of_vehicle."
   ]
  },
  {
   "cell_type": "code",
   "execution_count": 7,
   "id": "b975f6d3-9448-4c85-92a5-2244009fa767",
   "metadata": {},
   "outputs": [],
   "source": [
    "class vehicle :\n",
    "    def __init__(self, name_of_vehicle, max_speed , average_of_vehicle):\n",
    "        self.name_of_vehicle = name_of_vehicle\n",
    "        self.max_speed = max_speed\n",
    "        self.average_of_vehicle = average_of_vehicle\n",
    "        \n",
    "      \n",
    "v = vehicle(\"swift\",180,16.7)"
   ]
  },
  {
   "cell_type": "raw",
   "id": "d2a42827-5269-4d15-8104-75f02a5f5680",
   "metadata": {},
   "source": [
    "Q2. Create a child class car from the vehicle class created in Que 1, which will inherit the vehicle class.\n",
    "Create a method named seating_capacity which takes capacity as an argument and returns the name of\n",
    "the vehicle and its seating capacity."
   ]
  },
  {
   "cell_type": "code",
   "execution_count": null,
   "id": "20a9343b-a3f5-474c-b893-c3bcc373041e",
   "metadata": {},
   "outputs": [],
   "source": [
    "\n",
    "class vehicle :\n",
    "    def __init__(self, name_of_vehicle, max_speed , average_of_vehicle):\n",
    "        self.name_of_vehicle = name_of_vehicle\n",
    "        self.max_speed = max_speed\n",
    "        self.average_of_vehicle = average_of_vehicle\n",
    "        \n",
    "      \n",
    "\n",
    "class car(vehicle):\n",
    "    \n",
    "    def seating_capacity(self,capacity):\n",
    "        self.capacity = capacity\n",
    "        return self.name_of_vehicle , self.seating_capacity\n",
    "        \n",
    "\n",
    "c = car(\"Thar\",220,14.5)\n",
    "c.seating_capacity(7)\n",
    "    "
   ]
  },
  {
   "cell_type": "raw",
   "id": "e6b603bc-070a-4f23-9c4e-f5a665f7a4e8",
   "metadata": {},
   "source": [
    "Q3. What is multiple inheritance? Write a python code to demonstrate multiple inheritance.\n",
    "Ans. Multiple inheritance occurs when child class inherits from more than one parent class."
   ]
  },
  {
   "cell_type": "code",
   "execution_count": null,
   "id": "9473b72d-adaa-4f87-9b97-0056ec9d60dd",
   "metadata": {},
   "outputs": [],
   "source": [
    "class Freelancer:\n",
    "    company = \"Fiverr\"\n",
    "    level = 0\n",
    "\n",
    "    def upgradeLevel(self):\n",
    "        self.level = self.level + 1\n",
    "\n",
    "class Employee:\n",
    "    company = \"Visa\"\n",
    "    eCode = 120\n",
    "\n",
    "\n",
    "class Programmer(Freelancer, Employee):\n",
    "    name = \"Rohit\"\n",
    "\n",
    "p = Programmer()\n",
    "p.upgradeLevel()\n",
    "print(p.company)"
   ]
  },
  {
   "cell_type": "raw",
   "id": "7cbc0fc2-6a8b-4632-a73e-bddf830e532e",
   "metadata": {},
   "source": [
    "Q4. What are getter and setter in python? Create a class and create a getter and a setter method in this\n",
    "class.\n",
    "Ans. Getter method is used for to get the instance attriobute from the class whereas setter method id used to \n",
    "set the value to the class ."
   ]
  },
  {
   "cell_type": "code",
   "execution_count": null,
   "id": "1cca0820-36b8-4657-a265-40adf7971588",
   "metadata": {},
   "outputs": [],
   "source": [
    "class car :\n",
    "    def __init__(self , year , make , model, speed ) : \n",
    "        \n",
    "        self.__year = year \n",
    "        self.__make = make\n",
    "        self.__model = model\n",
    "        self.__speed = 0\n",
    "        \n",
    "    def set_speed(self,speed) : \n",
    "        self.__speed = 0 if speed < 0 else speed\n",
    "        \n",
    "    def get_speed(self)  : \n",
    "        return self.__speed\n",
    "\n",
    "\n",
    "c = car(2021 , \"toyata\" , \"innova\" , 12)\n",
    "\n",
    "c.set_speed(234)\n",
    "c.get_speed()\n",
    "\n",
    "# In this class set_speed is a setter method and get_speed is a getter method \n"
   ]
  },
  {
   "cell_type": "raw",
   "id": "e0c91d7a-ba22-495a-8083-7c19ee3a80c5",
   "metadata": {},
   "source": [
    "Q5.What is method overriding in python? Write a python code to demonstrate method overriding.\n",
    "Ans. When you have two methods with the same name that each perform different tasks."
   ]
  },
  {
   "cell_type": "code",
   "execution_count": null,
   "id": "a95642e6-29d2-434c-9997-866aa2fd6899",
   "metadata": {},
   "outputs": [],
   "source": [
    "class data_science:\n",
    "    \n",
    "    def syllabus(self) : \n",
    "        print(\"this is my syllabus for data science masters \")\n",
    "\n",
    "class web_dev:\n",
    "    \n",
    "    def syllabus(self) : \n",
    "        print(\"this is  my subllabus for web dev\" )\n",
    "\n",
    "\n",
    "def class_parcer(class_obj):\n",
    "    for i in class_obj : \n",
    "        i.syllabus()\n",
    "        \n",
    "data_science = data_science()\n",
    "web_dev = web_dev()\n",
    "\n",
    "class_obj = [data_science , web_dev]\n",
    "\n",
    "class_parcer(class_obj)"
   ]
  },
  {
   "cell_type": "code",
   "execution_count": null,
   "id": "d31e2478-1c03-4606-919b-8f278176f743",
   "metadata": {},
   "outputs": [],
   "source": []
  }
 ],
 "metadata": {
  "kernelspec": {
   "display_name": "Python 3 (ipykernel)",
   "language": "python",
   "name": "python3"
  },
  "language_info": {
   "codemirror_mode": {
    "name": "ipython",
    "version": 3
   },
   "file_extension": ".py",
   "mimetype": "text/x-python",
   "name": "python",
   "nbconvert_exporter": "python",
   "pygments_lexer": "ipython3",
   "version": "3.10.8"
  }
 },
 "nbformat": 4,
 "nbformat_minor": 5
}
