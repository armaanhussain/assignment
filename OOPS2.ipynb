{
 "cells": [
  {
   "cell_type": "code",
   "execution_count": null,
   "id": "6795d1fb-bf77-4b41-bd3e-829f3a10681c",
   "metadata": {},
   "outputs": [],
   "source": [
    "Q1. What is Abstraction in OOps? Explain with an example."
   ]
  },
  {
   "cell_type": "code",
   "execution_count": null,
   "id": "69e37be2-fa63-44a4-81e6-ef0e1d650ec6",
   "metadata": {},
   "outputs": [],
   "source": [
    "Ans1. Abstraction in python is defined as a process of handling complexity by hiding unnecessary information from the user\n",
    "\n",
    "import abc\n",
    "class pwskills:\n",
    "    \n",
    "    @abc.abstractmethod\n",
    "    def students_detials(self):\n",
    "        pass\n",
    "    \n",
    "    @abc.abstractmethod\n",
    "    def student_assignemnt(self):\n",
    "        pass\n",
    "    \n",
    "    @abc.abstractmethod\n",
    "    def student_marks(self):\n",
    "        pass"
   ]
  },
  {
   "cell_type": "code",
   "execution_count": null,
   "id": "2766b4e1-eb06-4cf7-b3fe-4be4eda9b69f",
   "metadata": {},
   "outputs": [],
   "source": [
    "Q2. Differentiate between Abstraction and Encapsulation. Explain with an example."
   ]
  },
  {
   "cell_type": "code",
   "execution_count": null,
   "id": "c5085e6c-faf1-4a0d-a453-ec1513794ca0",
   "metadata": {},
   "outputs": [],
   "source": [
    "Ans2. Abstraction deals with providing a simplified view of an object, while encapsulation\n",
    "involves bundling the data and methods together and controlling access to them. \n",
    "Together, these concepts promote clean, modular, and maintainable code.\n",
    "\n",
    "\n",
    "Code for Abstraction:\n",
    "    \n",
    "import abc\n",
    "class pwskills:\n",
    "    \n",
    "    @abc.abstractmethod\n",
    "    def students_detials(self):\n",
    "        pass\n",
    "    \n",
    "    @abc.abstractmethod\n",
    "    def student_assignemnt(self):\n",
    "        pass\n",
    "    \n",
    "    @abc.abstractmethod\n",
    "    def student_marks(self):\n",
    "        pass\n",
    "\n",
    "\n",
    "Code Example for Encapsulation:\n",
    "    \n",
    "Copy code\n",
    "class BankAccount:\n",
    "    def __init__(self, account_number, balance):\n",
    "        self.account_number = account_number\n",
    "        self.balance = balance\n",
    "\n",
    "    def deposit(self, amount):\n",
    "        if amount > 0:\n",
    "            self.balance += amount\n",
    "        else:\n",
    "            print(\"Invalid amount for deposit\")\n",
    "\n",
    "    def withdraw(self, amount):\n",
    "        if 0 < amount <= self.balance:\n",
    "            self.balance -= amount\n",
    "        else:\n",
    "            print(\"Invalid amount for withdrawal\")\n",
    "\n",
    "    def get_balance(self):\n",
    "        return self.balance\n",
    "\n"
   ]
  },
  {
   "cell_type": "code",
   "execution_count": null,
   "id": "0b9b504e-822d-48db-9e88-f726c590f5c0",
   "metadata": {},
   "outputs": [],
   "source": [
    "Q3. What is abc module in python? Why is it used?"
   ]
  },
  {
   "cell_type": "code",
   "execution_count": null,
   "id": "88acc795-0545-406f-8fff-aeca1e6ab2a4",
   "metadata": {},
   "outputs": [],
   "source": [
    "Ans3. The abc module in Python stands for Abstract Base Classes. It provides a way to define \n",
    "interfaces or blueprints for classes. This ensures that subclasses implement specific methods. \n",
    "abc enforces a structured behavior, making it useful for creating a common interface shared by \n",
    "multiple classes, ensuring consistency and standardization in their implementation."
   ]
  },
  {
   "cell_type": "code",
   "execution_count": null,
   "id": "99e0ed47-2598-4602-b619-783b2dcedad7",
   "metadata": {},
   "outputs": [],
   "source": [
    "Q4. How can we achieve data abstraction?"
   ]
  },
  {
   "cell_type": "code",
   "execution_count": null,
   "id": "ef9ddff3-d1ad-446c-a6b6-c506b7ad6397",
   "metadata": {},
   "outputs": [],
   "source": [
    "Ans4. Data abstraction in programming is achieved by creating classes that hide internal details and expose \n",
    "only relevant information or behavior through a defined interface. This involves using access modifiers, \n",
    "roviding accessor methods, and encapsulating complex logic. Additionally, abstract classes or interfaces \n",
    "can be used to enforce a common structure. Clear documentation of the interface is crucial for users to interact \n",
    "effectively with the object.\n",
    "\n",
    "\n",
    "\n",
    "\n"
   ]
  },
  {
   "cell_type": "code",
   "execution_count": null,
   "id": "3d6f4622-c389-4090-8238-a265356f02a3",
   "metadata": {},
   "outputs": [],
   "source": [
    "Q5. Can we create an instance of an abstract class? Explain your answer."
   ]
  },
  {
   "cell_type": "code",
   "execution_count": null,
   "id": "273b94bc-22a4-442f-8ccc-0edbf5d9319f",
   "metadata": {},
   "outputs": [],
   "source": [
    "Ans5. No, it's not possible to create an instance of an abstract class in Python.Abstract classes\n",
    "serve as templates for subclasses, containing one or more unimplemented methods. These methods\n",
    "must be defined by the subclasses. Attempting to directly instantiate an abstract class will result\n",
    "in a TypeError. They're designed for inheritance and to enforce a common structure among derived classes."
   ]
  },
  {
   "cell_type": "code",
   "execution_count": null,
   "id": "f8b3118f-a29c-4df6-9a35-a8ad5ac44631",
   "metadata": {},
   "outputs": [],
   "source": []
  },
  {
   "cell_type": "code",
   "execution_count": null,
   "id": "3c0be87b-d4bb-4c26-8d71-3de51db8ccd8",
   "metadata": {},
   "outputs": [],
   "source": []
  }
 ],
 "metadata": {
  "kernelspec": {
   "display_name": "Python 3 (ipykernel)",
   "language": "python",
   "name": "python3"
  },
  "language_info": {
   "codemirror_mode": {
    "name": "ipython",
    "version": 3
   },
   "file_extension": ".py",
   "mimetype": "text/x-python",
   "name": "python",
   "nbconvert_exporter": "python",
   "pygments_lexer": "ipython3",
   "version": "3.10.8"
  }
 },
 "nbformat": 4,
 "nbformat_minor": 5
}
