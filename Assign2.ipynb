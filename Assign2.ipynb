{
 "cells": [
  {
   "cell_type": "code",
   "execution_count": null,
   "id": "7a4e02cc-d22a-428e-8d2d-7d2ad3dfca6a",
   "metadata": {},
   "outputs": [],
   "source": [
    "Q1. How do you comment code in Python? What are the different types of comments?"
   ]
  },
  {
   "cell_type": "code",
   "execution_count": null,
   "id": "ef338f3c-7e30-443a-a686-1f80471940ad",
   "metadata": {},
   "outputs": [],
   "source": [
    "Ans1. To comment in Python we either use # or \"\"\"(comment statement )\"\"\" , comment increases the readibilty of the code\n",
    "showing that particular line is not part of the code.\n",
    "Comment statements are mainly of two types:\n",
    "i) Single line : If we just need to comment a single line statement then we use a '#' before the statement and this type of comment is\n",
    "                known as single line comment\n",
    "ii) Multi line : If we need to comment out more than one line of statement then instead of using '#' before every line we just simply\n",
    "                  use \"\"\" (Comment Statement) \"\"\" and this this type of comment is known as multi line comment"
   ]
  },
  {
   "cell_type": "code",
   "execution_count": null,
   "id": "4f277046-f4b1-4e5a-9090-79ccc016ad9f",
   "metadata": {},
   "outputs": [],
   "source": [
    "Q2. What are variables in Python? How do you declare and assign values to variables?"
   ]
  },
  {
   "cell_type": "code",
   "execution_count": null,
   "id": "f0569c3d-4255-4f69-ada5-fb5827a5ff33",
   "metadata": {},
   "outputs": [],
   "source": [
    "Ans2. A variable is the name given to memory location in a program.For eg.a = \"Coding\", b = 45, c = 55.65 here\n",
    "a, b, c are variables of differnt data types(string, Integer, Float). In the example above, we made variables\n",
    "a, b, c and it is also known as declaring variables and python itself identiofies the data type of\n",
    "variable as soon as the value is assigned. To assign values to the variables we use assignment\n",
    "operators( = )."
   ]
  },
  {
   "cell_type": "code",
   "execution_count": null,
   "id": "ddcb16ee-f98f-473d-80f2-72fa7f0bd392",
   "metadata": {},
   "outputs": [],
   "source": [
    "Q3. How do you convert one data type to another in Python?"
   ]
  },
  {
   "cell_type": "code",
   "execution_count": null,
   "id": "0619e76d-130b-45ac-8dfd-1a0af3be4079",
   "metadata": {},
   "outputs": [],
   "source": [
    "Ans3. Python provides built-in type conversion functions such as int(), float(), str(), etc . By using such functions we can\n",
    "      convert one data type into another.\n",
    "      For eg. suppose we need to change the data type of a variable from str to int\n",
    "      str= \"200\"\n",
    "      num = int(str)\n",
    "      type(num) ==>> it gives int as the type of num\n",
    "      "
   ]
  },
  {
   "cell_type": "code",
   "execution_count": null,
   "id": "0dc7a14d-13de-4952-bd03-d83fc4cd2632",
   "metadata": {},
   "outputs": [],
   "source": [
    "Q4. How do you write and execute a Python script from the command line?"
   ]
  },
  {
   "cell_type": "code",
   "execution_count": null,
   "id": "156c3b2a-1c9c-47e4-932f-a2c16e04df81",
   "metadata": {},
   "outputs": [],
   "source": [
    "Ans4. open a command line and type the word python followed by the path to your script file like this: \n",
    "    python first_script.py Hello World! Then you hit the ENTER button from the keyboard."
   ]
  },
  {
   "cell_type": "code",
   "execution_count": null,
   "id": "b4669dad-1007-445b-b4e5-8f31070f508c",
   "metadata": {},
   "outputs": [],
   "source": [
    "Q5. Given a list my_list = [1, 2, 3, 4, 5], write the code to slice the list and obtain the sub-list [2, 3]."
   ]
  },
  {
   "cell_type": "code",
   "execution_count": null,
   "id": "de4bafdf-a99d-4407-a568-6db1477d5ce1",
   "metadata": {},
   "outputs": [],
   "source": [
    "Ans5. list(my_list[1,3])"
   ]
  },
  {
   "cell_type": "code",
   "execution_count": null,
   "id": "cc6fbea5-680c-440a-8d86-9b7ca4e44c93",
   "metadata": {},
   "outputs": [],
   "source": [
    "Q6. What is a complex number in mathematics, and how is it represented in Python?"
   ]
  },
  {
   "cell_type": "code",
   "execution_count": null,
   "id": "d9424a7f-1408-476b-a6dc-e0fa98bf2ad1",
   "metadata": {},
   "outputs": [],
   "source": [
    "Ans6. In mathematics complex number is basically the combination of a real number and an imaginary number. It is represented by a+ib, \n",
    "      where a is the real part and ib is the imaginary part.\n",
    "      In python it is represented as a + bj , where a is the real part and bj is the imajinary part."
   ]
  },
  {
   "cell_type": "code",
   "execution_count": null,
   "id": "c0a29789-381f-43f0-b248-ab16cf86de71",
   "metadata": {},
   "outputs": [],
   "source": [
    "Q7. What is the correct way to declare a variable named age and assign the value 25 to it?"
   ]
  },
  {
   "cell_type": "code",
   "execution_count": null,
   "id": "8418dbac-fde9-47a5-8723-56ebcca6236e",
   "metadata": {},
   "outputs": [],
   "source": [
    "Ans7. age = 25"
   ]
  },
  {
   "cell_type": "code",
   "execution_count": null,
   "id": "de1f2f18-377d-49f6-8d2d-e8f68a2b8aaa",
   "metadata": {},
   "outputs": [],
   "source": [
    "Q8. Declare a variable named price and assign the value 9.99 to it. What data type does this variable\n",
    "belong to?"
   ]
  },
  {
   "cell_type": "code",
   "execution_count": null,
   "id": "591955ee-f14b-4b3f-9352-1a51166b7340",
   "metadata": {},
   "outputs": [],
   "source": [
    "Ans8. price = 9.99\n",
    "      price belongs to 'float' data type \n"
   ]
  },
  {
   "cell_type": "code",
   "execution_count": null,
   "id": "998c2186-0fce-43a4-a959-82cea1ec60bf",
   "metadata": {},
   "outputs": [],
   "source": []
  },
  {
   "cell_type": "code",
   "execution_count": null,
   "id": "a793e90c-17d9-4037-9977-8bba09f51876",
   "metadata": {},
   "outputs": [],
   "source": []
  },
  {
   "cell_type": "code",
   "execution_count": null,
   "id": "fec52d18-331b-458e-a25e-494327d812cd",
   "metadata": {},
   "outputs": [],
   "source": []
  },
  {
   "cell_type": "code",
   "execution_count": null,
   "id": "60878b2a-ca62-473e-a8f6-980455564798",
   "metadata": {},
   "outputs": [],
   "source": []
  }
 ],
 "metadata": {
  "kernelspec": {
   "display_name": "Python 3 (ipykernel)",
   "language": "python",
   "name": "python3"
  },
  "language_info": {
   "codemirror_mode": {
    "name": "ipython",
    "version": 3
   },
   "file_extension": ".py",
   "mimetype": "text/x-python",
   "name": "python",
   "nbconvert_exporter": "python",
   "pygments_lexer": "ipython3",
   "version": "3.10.6"
  }
 },
 "nbformat": 4,
 "nbformat_minor": 5
}
