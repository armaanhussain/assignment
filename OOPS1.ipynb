{
 "cells": [
  {
   "cell_type": "code",
   "execution_count": null,
   "id": "1499de98-6a21-4efb-a590-e8a87f6a782f",
   "metadata": {},
   "outputs": [],
   "source": [
    "Q1. Explain Class and Object with respect to Object-Oriented Programming. Give a suitable example."
   ]
  },
  {
   "cell_type": "code",
   "execution_count": null,
   "id": "3f0cba5c-15cd-4bb9-833b-e07d43993d08",
   "metadata": {},
   "outputs": [],
   "source": [
    "Ans1. A class is a blueprint for creating objects.\n",
    "for eg the basic syntax of class looks like:\n",
    "class students:\n",
    "    attributes\n",
    "    methods    \n",
    "    \n",
    "    \n",
    "An object is an instantation of a class .When class is defined a template idefined. \n",
    "Memory is allocated obly after object instantation.\n",
    "for the class student object is created as: \n",
    "s = student() \n"
   ]
  },
  {
   "cell_type": "code",
   "execution_count": null,
   "id": "d9d6f70e-3e7c-46b9-9923-10405437d56b",
   "metadata": {},
   "outputs": [],
   "source": [
    "Q2. Name the four pillars of OOPs."
   ]
  },
  {
   "cell_type": "code",
   "execution_count": null,
   "id": "fd4c8250-5929-4b65-8aa9-3f333ded37b7",
   "metadata": {},
   "outputs": [],
   "source": [
    "Ans2. Four pillars of oops are:\n",
    "    1.Polymorphism\n",
    "    2.Encapsulation\n",
    "    3.Inheritance\n",
    "    4.Abstraction\n",
    "    "
   ]
  },
  {
   "cell_type": "code",
   "execution_count": null,
   "id": "a35001cd-4560-418b-b133-108db62f241d",
   "metadata": {},
   "outputs": [],
   "source": [
    "Q3. Explain why the __init__() function is used. Give a suitable example."
   ]
  },
  {
   "cell_type": "code",
   "execution_count": null,
   "id": "b5c459e3-2695-434a-888f-98f9c4bcbd4a",
   "metadata": {},
   "outputs": [],
   "source": [
    "Ans3. __init__() is a special function which is first run as soon as the object is created , even before object creation .\n",
    "It is also known as a constructor.\n",
    "For eg.\n",
    "class Employee:\n",
    "    company = \"Google\"\n",
    "\n",
    "    def __init__(self, name, salary, subunit):\n",
    "        self.name = name\n",
    "        self.salary = salary\n",
    "        self.subunit = subunit\n",
    "        print(\"Employee is created!\") \n",
    "\n",
    "\n",
    "e = Employee(\"Ammy\", 100, \"YouTube\")\n"
   ]
  },
  {
   "cell_type": "code",
   "execution_count": null,
   "id": "f07ec948-b396-4355-9568-79409acfd3d1",
   "metadata": {},
   "outputs": [],
   "source": [
    "Q4. Why self is used in OOPs?"
   ]
  },
  {
   "cell_type": "code",
   "execution_count": null,
   "id": "0a3c9e32-bc18-46c0-9f7d-e5c8a72fb273",
   "metadata": {},
   "outputs": [],
   "source": [
    "Ans4. Self represents the instance of the class. By using the “self” we can access the attributes \n",
    "and methods of the class in Python. It binds the attributes with the given arguments."
   ]
  },
  {
   "cell_type": "code",
   "execution_count": null,
   "id": "458c2cea-3cff-4001-8ed3-117629c69968",
   "metadata": {},
   "outputs": [],
   "source": [
    "Q5. What is inheritance? Give an example for each type of inheritance."
   ]
  },
  {
   "cell_type": "code",
   "execution_count": null,
   "id": "e51687cd-c684-47b8-a05a-30859e491685",
   "metadata": {},
   "outputs": [],
   "source": [
    "Ans5. Inheritance is the way of creating a new class from the existing class. It increases the code \n",
    "reusability.\n",
    "\n",
    "There are 3 types of inheritance\n",
    "\n",
    "1. SINGLE INHERITANCE\n",
    "\n",
    "class Employee:\n",
    "    company = \"Google\"\n",
    "\n",
    "    def showDetails(self):\n",
    "        print(\"This is an employee\")\n",
    "\n",
    "class Programmer(Employee):\n",
    "    language = \"Python\"\n",
    "    # company = \"Youtube\"\n",
    "\n",
    "    def getLanguage(self):\n",
    "        print(f\"The language is {self.language}\")\n",
    "    \n",
    "    def showDetails(self):\n",
    "        print(\"This is an programmer\")\n",
    "\n",
    "\n",
    "e = Employee()\n",
    "e.showDetails()\n",
    "p = Programmer()\n",
    "p.showDetails()\n",
    "print(p.company)\n",
    "\n",
    "\n",
    "2. MULTIPLE INHERITANCE\n",
    "\n",
    "class Freelancer:\n",
    "    company = \"Fiverr\"\n",
    "    level = 0\n",
    "\n",
    "    def upgradeLevel(self):\n",
    "        self.level = self.level + 1\n",
    "\n",
    "class Employee:\n",
    "    company = \"Visa\"\n",
    "    eCode = 120\n",
    "\n",
    "\n",
    "class Programmer(Freelancer, Employee):\n",
    "    name = \"Rohit\"\n",
    "\n",
    "p = Programmer()\n",
    "p.upgradeLevel()\n",
    "print(p.company)\n",
    "\n",
    "\n",
    "3. MULTILEVEL INHERITANCE\n",
    "\n",
    "\n"
   ]
  },
  {
   "cell_type": "code",
   "execution_count": null,
   "id": "dc1fd8ed-df1a-4624-8933-23b63b6ec5a5",
   "metadata": {},
   "outputs": [],
   "source": []
  }
 ],
 "metadata": {
  "kernelspec": {
   "display_name": "Python 3 (ipykernel)",
   "language": "python",
   "name": "python3"
  },
  "language_info": {
   "codemirror_mode": {
    "name": "ipython",
    "version": 3
   },
   "file_extension": ".py",
   "mimetype": "text/x-python",
   "name": "python",
   "nbconvert_exporter": "python",
   "pygments_lexer": "ipython3",
   "version": "3.10.8"
  }
 },
 "nbformat": 4,
 "nbformat_minor": 5
}
