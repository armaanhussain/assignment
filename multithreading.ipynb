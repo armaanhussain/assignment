{
 "cells": [
  {
   "cell_type": "raw",
   "id": "50cc53a7-05bd-47d9-8c78-a8548369298a",
   "metadata": {},
   "source": [
    "Q1. What is multithreading in python? Why is it used? Name the module used to handle threads in python."
   ]
  },
  {
   "cell_type": "raw",
   "id": "273401d3-0550-4b31-9163-8f9c50c382df",
   "metadata": {},
   "source": [
    "Ans1. Multithreading in Python refers to the ability of a program or a script to execute multiple threads \n",
    "concurrently. A thread is a lightweight sub-process that shares the same memory space and resources of a parent process.\n",
    "\n",
    "It is used mainly because of the following reasons:\n",
    "1. Improved responsiveness\n",
    "2.I/O bound tasks\n",
    "3.Maintaining Responsiveness in GUI Applications\n",
    "4.Utilizing Multi-Core Processors\n",
    "5.Concurrency\n",
    "\n",
    "The module used to handle threads in python is called 'threading'"
   ]
  },
  {
   "cell_type": "raw",
   "id": "f6bfa6c7-2ac8-4a89-92a3-d1929e6aba63",
   "metadata": {},
   "source": [
    "Q2.Why threading module used? Write the use of the following functions:\n",
    "\n",
    "Ans2. The threading module in Python is used to work with threads, which are individual units of execution within \n",
    "a program.\n",
    "\n",
    "1.activeCount() : This function returns the number of Thread objects currently alive. It counts both daemon and non-daemon threads.\n",
    "\n",
    "2. currentThread() : This function returns the current Thread object corresponding to the caller's thread of control.\n",
    "\n",
    "3. enumurate() : This function returns a list of all Thread objects currently alive.\n",
    "\n"
   ]
  },
  {
   "cell_type": "raw",
   "id": "7b907dae-12ef-4b5a-8527-78130feea71b",
   "metadata": {},
   "source": [
    "Q3. Explain the following functions\n",
    "\n",
    "1.run() : The run() method is the entry point for the thread. When a Thread object is created, you can \n",
    "override the run() method to specify the behavior that the thread should execute.\n",
    "\n",
    "2.start() : The start() method initiates the execution of a thread by calling its run() method. It creates \n",
    "a new thread of control and begins executing the code inside run().\n",
    "\n",
    "3.join() : The join() method is used to wait for a thread to finish its execution before moving on to the next statement. \n",
    "If you don't join a thread, the program will exit even if the thread is still running\n",
    "\n",
    "4.isAlive() : The isAlive() method checks whether a thread is currently executing. It returns True if the thread is still\n",
    "running, and False if it has finished executing."
   ]
  },
  {
   "cell_type": "raw",
   "id": "8b8c7ef7-c020-4d85-a224-48f819049c3a",
   "metadata": {},
   "source": [
    "Q4. Write a python program to create two threads. Thread one must print the list of squares and thread\n",
    "two must print the list of cubes."
   ]
  },
  {
   "cell_type": "code",
   "execution_count": 2,
   "id": "f4a961a3-e4e2-46dd-8d91-e83f8b342667",
   "metadata": {},
   "outputs": [
    {
     "name": "stdout",
     "output_type": "stream",
     "text": [
      "Square of 0: 0\n",
      "Square of 1: 1\n",
      "Square of 2: 4\n",
      "Square of 3: 9\n",
      "Square of 4: 16\n",
      "Square of 5: 25\n",
      "Cube of 0: 0\n",
      "Cube of 1: 1\n",
      "Cube of 2: 8\n",
      "Cube of 3: 27\n",
      "Cube of 4: 64\n",
      "Cube of 5: 125\n"
     ]
    }
   ],
   "source": [
    "#Ans4:\n",
    "import threading\n",
    "\n",
    "def print_squares(a):   \n",
    "        print(f'Square of {a}: {a**2}')\n",
    "\n",
    "def print_cubes(b):\n",
    "        print(f'Cube of {b}: {b**3}')\n",
    "\n",
    "\n",
    "thread1 = [threading.Thread(target=print_squares, args = (i,)) for i in range(6)]\n",
    "thread2 = [threading.Thread(target=print_cubes, args = (i,)) for i in range(6)]\n",
    "\n",
    "for t1 in thread1:\n",
    "    t1.start()\n",
    "for t2 in thread2:\n",
    "    t2.start()\n",
    "\n"
   ]
  },
  {
   "cell_type": "raw",
   "id": "904bacb1-24ab-49c6-9e87-51775bb9d2c7",
   "metadata": {},
   "source": [
    "Q5. State advantages and disadvantages of multithreading"
   ]
  },
  {
   "cell_type": "raw",
   "id": "f8ad6a94-fa98-4218-8488-d66fb6517a63",
   "metadata": {},
   "source": [
    "Ans 5. \n",
    "Advantages of Multithreading:\n",
    "\n",
    "1.Improved Responsiveness: Multithreading allows a program to continue being responsive even when some parts of it\n",
    "are busy with tasks. This is especially important in applications with user interfaces.\n",
    "\n",
    "2.Better Resource Utilization: Multithreading can make better use of multiple CPU cores, enabling parallel execution \n",
    "of tasks and potentially speeding up the program.\n",
    "\n",
    "3.Enhanced Performance for I/O-Bound Tasks: For tasks that involve a lot of waiting for I/O operations (like reading from files \n",
    "or network sockets), multithreading can be highly beneficial. While one thread is waiting, others can continue processing.\n",
    "\n",
    "4.Effective in GUI Applications: In graphical user interface (GUI) applications, multithreading can ensure that the interface\n",
    "remains responsive even while performing background tasks.\n",
    "\n",
    "\n",
    "Disadvantages of Multithreading:\n",
    "\n",
    "1.Complexity and Debugging: Multithreaded programs can be complex to design, implement, and debug. Dealing with shared resources and synchronizing access to them can lead to subtle and hard-to-find bugs.\n",
    "\n",
    "2.Race Conditions and Deadlocks: Incorrect synchronization of threads can lead to race conditions (where the outcome of a program depend\n",
    "s on the order of execution of threads) and deadlocks (where threads are blocked waiting for each other).\n",
    "\n",
    "3.Resource Contentions: When multiple threads are trying to access shared resources simultaneously, conflicts may arise, leading to inefficiencies or incorrect behavior.\n",
    "\n",
    "4.Context Switching Overhead: There is a cost associated with the context switching between threads. If there are too many threads\n",
    "competing for resources, it can lead to overhead and reduced overall performance.\n"
   ]
  },
  {
   "cell_type": "raw",
   "id": "5b984d15-3b90-4d30-afcc-fc65cffa501d",
   "metadata": {},
   "source": [
    "Q6. Explain deadlocks and race conditions."
   ]
  },
  {
   "cell_type": "raw",
   "id": "913dfb97-7d73-440a-9578-c64c7af76401",
   "metadata": {},
   "source": [
    "Ans6. \n",
    "Deadlocks:\n",
    ".A deadlock is a situation in multithreading where two or more threads are unable to proceed because each is waiting\n",
    "for the other to release a lock or resource.\n",
    "\n",
    ".This typically happens when multiple threads attempt to acquire resources in a way that creates a circular dependency.\n",
    "\n",
    ".For example, consider two threads (Thread A and Thread B) trying to acquire two locks (Lock 1 and Lock 2). If Thread A\n",
    "acquires Lock 1 and Thread B acquires Lock 2 at the same time, and then both threads try to acquire the lock they are missing, \n",
    "they will be stuck in a deadlock.\n",
    "\n",
    ".To prevent deadlocks, proper synchronization mechanisms (like locks or semaphores) should be used to ensure that threads acquire and release resources in a consistent and coordinated manner.\n",
    "\n",
    "\n",
    "Race Conditions:\n",
    "\n",
    ".A race condition is a situation where the outcome of a program depends on the order of execution of its threads.\n",
    "\n",
    ".This can occur when multiple threads access shared resources simultaneously, and the order in which they do so affects\n",
    "the final result.\n",
    "\n",
    ".For example, consider two threads trying to update a shared variable. If they both read the current value of the variable at \n",
    "the same time, perform their operations, and then write the result back, the final value may not be what is expected due to the\n",
    "interleaving of operations.\n",
    "\n",
    ".Race conditions can lead to incorrect program behavior and are a common source of bugs in multithreaded programs.\n",
    "\n",
    ".To prevent race conditions, synchronization mechanisms like locks or atomic operations should be used to ensure that critical \n",
    "sections of code are executed atomically.\n",
    "\n"
   ]
  },
  {
   "cell_type": "code",
   "execution_count": null,
   "id": "5ae04a03-b4d3-4f07-85ce-c660ecf7e939",
   "metadata": {},
   "outputs": [],
   "source": []
  },
  {
   "cell_type": "code",
   "execution_count": null,
   "id": "59630649-59ee-43de-9e1b-959e13b73340",
   "metadata": {},
   "outputs": [],
   "source": []
  }
 ],
 "metadata": {
  "kernelspec": {
   "display_name": "Python 3 (ipykernel)",
   "language": "python",
   "name": "python3"
  },
  "language_info": {
   "codemirror_mode": {
    "name": "ipython",
    "version": 3
   },
   "file_extension": ".py",
   "mimetype": "text/x-python",
   "name": "python",
   "nbconvert_exporter": "python",
   "pygments_lexer": "ipython3",
   "version": "3.10.8"
  }
 },
 "nbformat": 4,
 "nbformat_minor": 5
}
