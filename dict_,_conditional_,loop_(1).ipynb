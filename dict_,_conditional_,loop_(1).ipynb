{
  "cells": [
    {
      "cell_type": "code",
      "execution_count": null,
      "id": "d3bc59a8-1cc1-4f97-9a11-337529dde45a",
      "metadata": {
        "id": "d3bc59a8-1cc1-4f97-9a11-337529dde45a"
      },
      "outputs": [],
      "source": [
        "d = {}"
      ]
    },
    {
      "cell_type": "code",
      "execution_count": null,
      "id": "9c4e1cc8-948f-4630-8e4c-689a196672bf",
      "metadata": {
        "id": "9c4e1cc8-948f-4630-8e4c-689a196672bf",
        "outputId": "144e4447-797e-4a41-8a4a-6e3943a031b1"
      },
      "outputs": [
        {
          "data": {
            "text/plain": [
              "dict"
            ]
          },
          "execution_count": 3,
          "metadata": {},
          "output_type": "execute_result"
        }
      ],
      "source": [
        "type(d)"
      ]
    },
    {
      "cell_type": "code",
      "execution_count": null,
      "id": "15439b41-f222-48e7-87cf-0fdc439d5483",
      "metadata": {
        "id": "15439b41-f222-48e7-87cf-0fdc439d5483"
      },
      "outputs": [],
      "source": [
        "d1 = {'key' : \"sudh\"}"
      ]
    },
    {
      "cell_type": "code",
      "execution_count": null,
      "id": "e0052ccd-92c9-42d5-8152-5d3e3d7da393",
      "metadata": {
        "id": "e0052ccd-92c9-42d5-8152-5d3e3d7da393",
        "outputId": "4c9b7fbc-6087-433f-fb5e-ed9dd25205d1"
      },
      "outputs": [
        {
          "data": {
            "text/plain": [
              "{'key': 'sudh'}"
            ]
          },
          "execution_count": 5,
          "metadata": {},
          "output_type": "execute_result"
        }
      ],
      "source": [
        "d1"
      ]
    },
    {
      "cell_type": "code",
      "execution_count": null,
      "id": "b9816072-25a2-4556-ae7e-a8f8a6f189b8",
      "metadata": {
        "id": "b9816072-25a2-4556-ae7e-a8f8a6f189b8"
      },
      "outputs": [],
      "source": [
        "d2 = {'name' : \"sudhanshu\" , \"email\" : \"ss@gmail.com\", \"number\" : 334534}"
      ]
    },
    {
      "cell_type": "code",
      "execution_count": null,
      "id": "c139ef00-3548-4a29-b041-1c2ba9b3db2f",
      "metadata": {
        "id": "c139ef00-3548-4a29-b041-1c2ba9b3db2f",
        "outputId": "f533e7fd-1b14-451f-a8fe-20df6e0f1918"
      },
      "outputs": [
        {
          "data": {
            "text/plain": [
              "{'name': 'sudhanshu', 'email': 'ss@gmail.com', 'number': 334534}"
            ]
          },
          "execution_count": 7,
          "metadata": {},
          "output_type": "execute_result"
        }
      ],
      "source": [
        "d2"
      ]
    },
    {
      "cell_type": "code",
      "execution_count": null,
      "id": "d40e089b-4763-42d9-9a65-f0fb5489b8f4",
      "metadata": {
        "id": "d40e089b-4763-42d9-9a65-f0fb5489b8f4"
      },
      "outputs": [],
      "source": [
        "d3 = {234 : \"sudh\" , '_wer' : \"kumar\",True :24234}"
      ]
    },
    {
      "cell_type": "code",
      "execution_count": null,
      "id": "5b03eeb2-baa8-4051-ba80-e5729db0d8b0",
      "metadata": {
        "id": "5b03eeb2-baa8-4051-ba80-e5729db0d8b0",
        "outputId": "e21f847d-3c34-4a0b-aeed-492ece1b7ec2"
      },
      "outputs": [
        {
          "data": {
            "text/plain": [
              "{234: 'sudh', '_wer': 'kumar', True: 24234}"
            ]
          },
          "execution_count": 14,
          "metadata": {},
          "output_type": "execute_result"
        }
      ],
      "source": [
        "d3"
      ]
    },
    {
      "cell_type": "code",
      "execution_count": null,
      "id": "d239b7c7-b9dc-4714-b063-2fb7ace1fd3d",
      "metadata": {
        "id": "d239b7c7-b9dc-4714-b063-2fb7ace1fd3d",
        "outputId": "3264abf6-7153-4f76-ba2c-647a8d34fa95"
      },
      "outputs": [
        {
          "data": {
            "text/plain": [
              "'sudh'"
            ]
          },
          "execution_count": 15,
          "metadata": {},
          "output_type": "execute_result"
        }
      ],
      "source": [
        "d3[234]"
      ]
    },
    {
      "cell_type": "code",
      "execution_count": null,
      "id": "20f1ccaa-319f-4a79-ac54-b78cdcf97b65",
      "metadata": {
        "id": "20f1ccaa-319f-4a79-ac54-b78cdcf97b65",
        "outputId": "489c4adb-bdf4-4c01-f5c8-c00b2b357c09"
      },
      "outputs": [
        {
          "data": {
            "text/plain": [
              "24234"
            ]
          },
          "execution_count": 16,
          "metadata": {},
          "output_type": "execute_result"
        }
      ],
      "source": [
        "d3[True]"
      ]
    },
    {
      "cell_type": "code",
      "execution_count": null,
      "id": "06cc2d90-a745-4b78-b5ee-99c5433222be",
      "metadata": {
        "id": "06cc2d90-a745-4b78-b5ee-99c5433222be",
        "outputId": "15245627-0843-4f54-d698-fdefb8e4dd3e"
      },
      "outputs": [
        {
          "data": {
            "text/plain": [
              "24234"
            ]
          },
          "execution_count": 17,
          "metadata": {},
          "output_type": "execute_result"
        }
      ],
      "source": [
        "d3[1]"
      ]
    },
    {
      "cell_type": "code",
      "execution_count": null,
      "id": "8bbc4c68-fa4d-4ebb-9566-f29e7d50d4f3",
      "metadata": {
        "id": "8bbc4c68-fa4d-4ebb-9566-f29e7d50d4f3"
      },
      "outputs": [],
      "source": [
        "d4 = {'name':\"sudh\" , 'mail_id' :\"ss@gmail.com\" ,\"name\":\"sudhanshu\"}"
      ]
    },
    {
      "cell_type": "code",
      "execution_count": null,
      "id": "56f003f4-0639-4670-a545-e82168f8f299",
      "metadata": {
        "id": "56f003f4-0639-4670-a545-e82168f8f299",
        "outputId": "b1f4b5a1-34fc-4b28-c5b1-a1db60c0fed4"
      },
      "outputs": [
        {
          "data": {
            "text/plain": [
              "'sudhanshu'"
            ]
          },
          "execution_count": 20,
          "metadata": {},
          "output_type": "execute_result"
        }
      ],
      "source": [
        "d4['name']"
      ]
    },
    {
      "cell_type": "code",
      "execution_count": null,
      "id": "bb6d3237-d93b-48ab-ac2b-8aaba7d5e6c7",
      "metadata": {
        "id": "bb6d3237-d93b-48ab-ac2b-8aaba7d5e6c7"
      },
      "outputs": [],
      "source": [
        "d5 ={\"company\" : \"pwskills\" , \"course\" :[\"web dev\" , \"data science \" , \"java with dsa system design\"]}"
      ]
    },
    {
      "cell_type": "code",
      "execution_count": null,
      "id": "b02c0815-4b95-4b09-8479-4b63051c77d6",
      "metadata": {
        "id": "b02c0815-4b95-4b09-8479-4b63051c77d6",
        "outputId": "72a5e05c-93c8-4911-e82f-8fbcf4c0b8f0"
      },
      "outputs": [
        {
          "data": {
            "text/plain": [
              "{'company': 'pwskills',\n",
              " 'course': ['web dev', 'data science ', 'java with dsa system design']}"
            ]
          },
          "execution_count": 22,
          "metadata": {},
          "output_type": "execute_result"
        }
      ],
      "source": [
        "d5"
      ]
    },
    {
      "cell_type": "code",
      "execution_count": null,
      "id": "db8355ef-a2ca-48b5-8785-a8da7639aa9b",
      "metadata": {
        "id": "db8355ef-a2ca-48b5-8785-a8da7639aa9b",
        "outputId": "1abbcab6-7c76-4f44-daa7-a272c331ddff"
      },
      "outputs": [
        {
          "data": {
            "text/plain": [
              "['web dev', 'data science ', 'java with dsa system design']"
            ]
          },
          "execution_count": 23,
          "metadata": {},
          "output_type": "execute_result"
        }
      ],
      "source": [
        "d5['course']"
      ]
    },
    {
      "cell_type": "code",
      "execution_count": null,
      "id": "d702ed13-a5db-4c83-99ae-30d2d275f6a7",
      "metadata": {
        "id": "d702ed13-a5db-4c83-99ae-30d2d275f6a7",
        "outputId": "06467c1f-6863-4393-91d8-738a09bb01c2"
      },
      "outputs": [
        {
          "data": {
            "text/plain": [
              "'java with dsa system design'"
            ]
          },
          "execution_count": 24,
          "metadata": {},
          "output_type": "execute_result"
        }
      ],
      "source": [
        "d5['course'][2]"
      ]
    },
    {
      "cell_type": "code",
      "execution_count": null,
      "id": "6c81af66-5eae-4d04-9d63-26db91b7f1f9",
      "metadata": {
        "id": "6c81af66-5eae-4d04-9d63-26db91b7f1f9"
      },
      "outputs": [],
      "source": [
        "d6 = {\"number\" : [2,34,3,34,34],\"assignment\":(1,2,3,4,5,6) , \"launch_date\":{28,12,14} ,\"class_time\":{\"web_dev\": 8 , \"Data science masters\" : 8 , \"java with dsa and system design\":7}}"
      ]
    },
    {
      "cell_type": "code",
      "execution_count": null,
      "id": "dcdcc28b-1783-4d52-a153-93170a8f27b1",
      "metadata": {
        "id": "dcdcc28b-1783-4d52-a153-93170a8f27b1"
      },
      "outputs": [],
      "source": []
    },
    {
      "cell_type": "code",
      "execution_count": null,
      "id": "ad8ca77d-299d-4105-a367-60f18a8c1f9c",
      "metadata": {
        "id": "ad8ca77d-299d-4105-a367-60f18a8c1f9c",
        "outputId": "aa07f956-2025-4866-e062-b92340ec6d49"
      },
      "outputs": [
        {
          "data": {
            "text/plain": [
              "{'number': [2, 34, 3, 34, 34],\n",
              " 'assignment': (1, 2, 3, 4, 5, 6),\n",
              " 'launch_date': {12, 14, 28},\n",
              " 'class_time': {'web_dev': 8,\n",
              "  'Data science masters': 8,\n",
              "  'java with dsa and system design': 7}}"
            ]
          },
          "execution_count": 28,
          "metadata": {},
          "output_type": "execute_result"
        }
      ],
      "source": [
        "d6"
      ]
    },
    {
      "cell_type": "code",
      "execution_count": null,
      "id": "5750a3b2-1e34-4d33-98b4-865a53484c4f",
      "metadata": {
        "id": "5750a3b2-1e34-4d33-98b4-865a53484c4f",
        "outputId": "35f14768-24d7-4669-99a5-ec1972aeb5c1"
      },
      "outputs": [
        {
          "data": {
            "text/plain": [
              "7"
            ]
          },
          "execution_count": 30,
          "metadata": {},
          "output_type": "execute_result"
        }
      ],
      "source": [
        "d6['class_time']['java with dsa and system design']"
      ]
    },
    {
      "cell_type": "code",
      "execution_count": null,
      "id": "d06f2b52-dcef-46c3-b341-60230734f23d",
      "metadata": {
        "id": "d06f2b52-dcef-46c3-b341-60230734f23d",
        "outputId": "9e5f8a7c-05d8-4978-8858-013969a17dc2"
      },
      "outputs": [
        {
          "data": {
            "text/plain": [
              "{'number': [2, 34, 3, 34, 34],\n",
              " 'assignment': (1, 2, 3, 4, 5, 6),\n",
              " 'launch_date': {12, 14, 28},\n",
              " 'class_time': {'web_dev': 8,\n",
              "  'Data science masters': 8,\n",
              "  'java with dsa and system design': 7}}"
            ]
          },
          "execution_count": 31,
          "metadata": {},
          "output_type": "execute_result"
        }
      ],
      "source": [
        "d6"
      ]
    },
    {
      "cell_type": "code",
      "execution_count": null,
      "id": "52447cf1-a055-4f8c-bb2f-26803d932dfd",
      "metadata": {
        "id": "52447cf1-a055-4f8c-bb2f-26803d932dfd"
      },
      "outputs": [],
      "source": [
        "d6['mentor'] = [\"sudhanshu\",\"krish\",\"anurag\" , \"hayder\"]"
      ]
    },
    {
      "cell_type": "code",
      "execution_count": null,
      "id": "8f48b7d0-7b5c-43d3-87ee-b87b5de3596f",
      "metadata": {
        "id": "8f48b7d0-7b5c-43d3-87ee-b87b5de3596f",
        "outputId": "bdb89a9b-9ecb-45b7-90a5-cccec68bb77a"
      },
      "outputs": [
        {
          "data": {
            "text/plain": [
              "{'number': [2, 34, 3, 34, 34],\n",
              " 'assignment': (1, 2, 3, 4, 5, 6),\n",
              " 'launch_date': {12, 14, 28},\n",
              " 'class_time': {'web_dev': 8,\n",
              "  'Data science masters': 8,\n",
              "  'java with dsa and system design': 7},\n",
              " 'mentor': ['sudhanshu', 'krish', 'anurag', 'hayder']}"
            ]
          },
          "execution_count": 33,
          "metadata": {},
          "output_type": "execute_result"
        }
      ],
      "source": [
        "d6"
      ]
    },
    {
      "cell_type": "code",
      "execution_count": null,
      "id": "bc79fbe3-af96-4aaf-9e22-216e0967e937",
      "metadata": {
        "id": "bc79fbe3-af96-4aaf-9e22-216e0967e937"
      },
      "outputs": [],
      "source": [
        "del d6['number']"
      ]
    },
    {
      "cell_type": "code",
      "execution_count": null,
      "id": "ff209f7f-7e61-40ae-b9f2-3534c817f571",
      "metadata": {
        "id": "ff209f7f-7e61-40ae-b9f2-3534c817f571",
        "outputId": "78197203-31ef-4f56-8f6d-4070099755e8"
      },
      "outputs": [
        {
          "data": {
            "text/plain": [
              "{'assignment': (1, 2, 3, 4, 5, 6),\n",
              " 'launch_date': {12, 14, 28},\n",
              " 'class_time': {'web_dev': 8,\n",
              "  'Data science masters': 8,\n",
              "  'java with dsa and system design': 7},\n",
              " 'mentor': ['sudhanshu', 'krish', 'anurag', 'hayder']}"
            ]
          },
          "execution_count": 35,
          "metadata": {},
          "output_type": "execute_result"
        }
      ],
      "source": [
        "d6"
      ]
    },
    {
      "cell_type": "code",
      "execution_count": null,
      "id": "b63cead9-5ee4-447a-a880-0f741d357d18",
      "metadata": {
        "id": "b63cead9-5ee4-447a-a880-0f741d357d18",
        "outputId": "3a881f14-935b-43b8-8aad-63c165130a79"
      },
      "outputs": [
        {
          "data": {
            "text/plain": [
              "['assignment', 'launch_date', 'class_time', 'mentor']"
            ]
          },
          "execution_count": 37,
          "metadata": {},
          "output_type": "execute_result"
        }
      ],
      "source": [
        "list(d6.keys())"
      ]
    },
    {
      "cell_type": "code",
      "execution_count": null,
      "id": "69e8cc8e-86d8-4317-9e0b-d336ee4795ce",
      "metadata": {
        "id": "69e8cc8e-86d8-4317-9e0b-d336ee4795ce",
        "outputId": "6a7642af-e975-4563-8d4b-6436bf3e3d63"
      },
      "outputs": [
        {
          "data": {
            "text/plain": [
              "[(1, 2, 3, 4, 5, 6),\n",
              " {12, 14, 28},\n",
              " {'web_dev': 8,\n",
              "  'Data science masters': 8,\n",
              "  'java with dsa and system design': 7},\n",
              " ['sudhanshu', 'krish', 'anurag', 'hayder']]"
            ]
          },
          "execution_count": 39,
          "metadata": {},
          "output_type": "execute_result"
        }
      ],
      "source": [
        "list(d6.values())"
      ]
    },
    {
      "cell_type": "code",
      "execution_count": null,
      "id": "c467ed3e-8e45-43a2-b3fb-b4792d6a6e86",
      "metadata": {
        "id": "c467ed3e-8e45-43a2-b3fb-b4792d6a6e86",
        "outputId": "0bc1ca50-caf6-4667-f2d1-42b0e46b895b"
      },
      "outputs": [
        {
          "data": {
            "text/plain": [
              "[('assignment', (1, 2, 3, 4, 5, 6)),\n",
              " ('launch_date', {12, 14, 28}),\n",
              " ('class_time',\n",
              "  {'web_dev': 8,\n",
              "   'Data science masters': 8,\n",
              "   'java with dsa and system design': 7}),\n",
              " ('mentor', ['sudhanshu', 'krish', 'anurag', 'hayder'])]"
            ]
          },
          "execution_count": 41,
          "metadata": {},
          "output_type": "execute_result"
        }
      ],
      "source": [
        "list(d6.items())"
      ]
    },
    {
      "cell_type": "code",
      "execution_count": null,
      "id": "6bb5b908-b598-4e51-a301-ca7679987ff6",
      "metadata": {
        "id": "6bb5b908-b598-4e51-a301-ca7679987ff6",
        "outputId": "0670d8bd-c389-4391-f14e-0e2aa40ed511"
      },
      "outputs": [
        {
          "data": {
            "text/plain": [
              "(1, 2, 3, 4, 5, 6)"
            ]
          },
          "execution_count": 42,
          "metadata": {},
          "output_type": "execute_result"
        }
      ],
      "source": [
        "d6.pop('assignment')"
      ]
    },
    {
      "cell_type": "code",
      "execution_count": null,
      "id": "db1e47f4-3a3b-4ea9-9822-4245c95b913e",
      "metadata": {
        "id": "db1e47f4-3a3b-4ea9-9822-4245c95b913e",
        "outputId": "05e70be2-3ef7-469d-b3d8-6db929c81358"
      },
      "outputs": [
        {
          "data": {
            "text/plain": [
              "{'launch_date': {12, 14, 28},\n",
              " 'class_time': {'web_dev': 8,\n",
              "  'Data science masters': 8,\n",
              "  'java with dsa and system design': 7},\n",
              " 'mentor': ['sudhanshu', 'krish', 'anurag', 'hayder']}"
            ]
          },
          "execution_count": 43,
          "metadata": {},
          "output_type": "execute_result"
        }
      ],
      "source": [
        "d6"
      ]
    },
    {
      "cell_type": "code",
      "execution_count": null,
      "id": "10fdb38c-3a46-48f4-b8d1-15a72d353ce5",
      "metadata": {
        "id": "10fdb38c-3a46-48f4-b8d1-15a72d353ce5",
        "outputId": "82be9830-373c-4bc1-a2aa-da55e1ce7246"
      },
      "outputs": [
        {
          "ename": "TypeError",
          "evalue": "pop expected at least 1 argument, got 0",
          "output_type": "error",
          "traceback": [
            "\u001b[0;31m---------------------------------------------------------------------------\u001b[0m",
            "\u001b[0;31mTypeError\u001b[0m                                 Traceback (most recent call last)",
            "Cell \u001b[0;32mIn[46], line 1\u001b[0m\n\u001b[0;32m----> 1\u001b[0m \u001b[43md6\u001b[49m\u001b[38;5;241;43m.\u001b[39;49m\u001b[43mpop\u001b[49m\u001b[43m(\u001b[49m\u001b[43m)\u001b[49m\n",
            "\u001b[0;31mTypeError\u001b[0m: pop expected at least 1 argument, got 0"
          ]
        }
      ],
      "source": [
        "d6.pop()"
      ]
    },
    {
      "cell_type": "code",
      "execution_count": null,
      "id": "f46f8e48-f159-479b-bee6-33abe93a7ebf",
      "metadata": {
        "id": "f46f8e48-f159-479b-bee6-33abe93a7ebf",
        "outputId": "b09cd4cb-91af-49ae-c0f5-a523781d0b63"
      },
      "outputs": [
        {
          "name": "stdin",
          "output_type": "stream",
          "text": [
            "enter your marks  90\n"
          ]
        },
        {
          "name": "stdout",
          "output_type": "stream",
          "text": [
            "you will be a part of A0 batch\n"
          ]
        }
      ],
      "source": [
        "marks = int(input(\"enter your marks \"))\n",
        "if marks >= 80:\n",
        "    print(\"you will be a part of A0 batch\")\n",
        "elif marks >= 60 and marks< 80:\n",
        "    print(\"you will be a part of A1 batch\")\n",
        "elif marks >= 40 and marks < 60 :\n",
        "    print(\"you will be a part of A2 batch \")\n",
        "else :\n",
        "    print(\"you will be a part of A3 batch \")\n",
        "\n",
        ""
      ]
    },
    {
      "cell_type": "code",
      "execution_count": null,
      "id": "945fa0a0-d575-4001-996b-7cb2cd8d7b0d",
      "metadata": {
        "id": "945fa0a0-d575-4001-996b-7cb2cd8d7b0d",
        "outputId": "2f80bdce-83f2-4abc-8bf1-d7707e29fa27"
      },
      "outputs": [
        {
          "data": {
            "text/plain": [
              "False"
            ]
          },
          "execution_count": 55,
          "metadata": {},
          "output_type": "execute_result"
        }
      ],
      "source": [
        "10 >= 80"
      ]
    },
    {
      "cell_type": "code",
      "execution_count": null,
      "id": "bcc043c7-c706-4009-b659-3d973bdebeeb",
      "metadata": {
        "id": "bcc043c7-c706-4009-b659-3d973bdebeeb",
        "outputId": "6d1192e3-4166-4e89-f95d-1d98c4046c5a"
      },
      "outputs": [
        {
          "name": "stdin",
          "output_type": "stream",
          "text": [
            "enter your marks  324\n"
          ]
        }
      ],
      "source": [
        "marks = int(input(\"enter your marks \"))"
      ]
    },
    {
      "cell_type": "code",
      "execution_count": null,
      "id": "5c627e2d-6113-4255-b639-1dfba3303d47",
      "metadata": {
        "id": "5c627e2d-6113-4255-b639-1dfba3303d47",
        "outputId": "fa9a5311-3b9c-480f-989c-bc8563d1ce09"
      },
      "outputs": [
        {
          "data": {
            "text/plain": [
              "324"
            ]
          },
          "execution_count": 64,
          "metadata": {},
          "output_type": "execute_result"
        }
      ],
      "source": [
        "marks"
      ]
    },
    {
      "cell_type": "code",
      "execution_count": null,
      "id": "e96d8057-64e3-4961-b26c-0b5b871bb341",
      "metadata": {
        "id": "e96d8057-64e3-4961-b26c-0b5b871bb341",
        "outputId": "17be3a1e-cb9b-4a3e-af11-d5f614f78360"
      },
      "outputs": [
        {
          "data": {
            "text/plain": [
              "int"
            ]
          },
          "execution_count": 65,
          "metadata": {},
          "output_type": "execute_result"
        }
      ],
      "source": [
        "type(marks)"
      ]
    },
    {
      "cell_type": "code",
      "execution_count": null,
      "id": "253159d0-2c21-4017-a631-dcfb58233ab9",
      "metadata": {
        "id": "253159d0-2c21-4017-a631-dcfb58233ab9",
        "outputId": "2bb08dbd-5b27-4439-af4b-8403ebd38c4f"
      },
      "outputs": [
        {
          "name": "stdin",
          "output_type": "stream",
          "text": [
            "enter price  500\n"
          ]
        },
        {
          "name": "stdout",
          "output_type": "stream",
          "text": [
            "i will purchase\n"
          ]
        }
      ],
      "source": [
        "price = int(input(\"enter price \" ))\n",
        "if price > 1000:\n",
        "    print(\"i will not purchase\")\n",
        "else :\n",
        "    print(\"i will purchase\")"
      ]
    },
    {
      "cell_type": "code",
      "execution_count": null,
      "id": "628ed574-e92a-4b12-94f2-5cabf74e9e59",
      "metadata": {
        "id": "628ed574-e92a-4b12-94f2-5cabf74e9e59",
        "outputId": "fe7e964b-18d9-4496-9b44-87853a9a4e2c"
      },
      "outputs": [
        {
          "name": "stdin",
          "output_type": "stream",
          "text": [
            "enter price  600\n"
          ]
        },
        {
          "name": "stdout",
          "output_type": "stream",
          "text": [
            "i will purchase\n"
          ]
        }
      ],
      "source": [
        "price = int(input(\"enter price \" ))\n",
        "if price > 1000:\n",
        "    print(\"i will not purchase\")\n",
        "    if price >5000:\n",
        "        print(\"this is too much \")\n",
        "    elif price < 2000 :\n",
        "        print(\"its ok\")\n",
        "elif price < 1000 or price > 500 :\n",
        "    print(\"i will purchase\")\n",
        "else :\n",
        "    print(\"not interested \")"
      ]
    },
    {
      "cell_type": "code",
      "execution_count": null,
      "id": "6c51f7e7-a567-4288-89c4-9b8bf30e7498",
      "metadata": {
        "id": "6c51f7e7-a567-4288-89c4-9b8bf30e7498"
      },
      "outputs": [],
      "source": [
        "l = [1,2,3,3,4,5,6,7,8]"
      ]
    },
    {
      "cell_type": "code",
      "execution_count": null,
      "id": "8dbcc218-0212-4f51-9bf8-59f69c731ef9",
      "metadata": {
        "id": "8dbcc218-0212-4f51-9bf8-59f69c731ef9",
        "outputId": "a1391abf-2d72-4922-d224-53debb780bb5"
      },
      "outputs": [
        {
          "data": {
            "text/plain": [
              "2"
            ]
          },
          "execution_count": 77,
          "metadata": {},
          "output_type": "execute_result"
        }
      ],
      "source": [
        "l[0] +1"
      ]
    },
    {
      "cell_type": "code",
      "execution_count": null,
      "id": "55938e22-4927-492c-8e91-f60b7871659f",
      "metadata": {
        "id": "55938e22-4927-492c-8e91-f60b7871659f"
      },
      "outputs": [],
      "source": [
        "l1 = []"
      ]
    },
    {
      "cell_type": "code",
      "execution_count": null,
      "id": "3a06be4a-d01c-46a7-98f6-edc8e45ca547",
      "metadata": {
        "id": "3a06be4a-d01c-46a7-98f6-edc8e45ca547"
      },
      "outputs": [],
      "source": [
        "l1.append(l[0] +1)"
      ]
    },
    {
      "cell_type": "code",
      "execution_count": null,
      "id": "4b4f5187-3b25-4568-a154-c42235a6b823",
      "metadata": {
        "id": "4b4f5187-3b25-4568-a154-c42235a6b823",
        "outputId": "f053d621-768b-4fe5-d14b-0bcc132e32d1"
      },
      "outputs": [
        {
          "data": {
            "text/plain": [
              "[2]"
            ]
          },
          "execution_count": 80,
          "metadata": {},
          "output_type": "execute_result"
        }
      ],
      "source": [
        "l1"
      ]
    },
    {
      "cell_type": "code",
      "execution_count": null,
      "id": "8d0b681b-1507-4584-b285-2714f0d7ca5f",
      "metadata": {
        "id": "8d0b681b-1507-4584-b285-2714f0d7ca5f"
      },
      "outputs": [],
      "source": [
        "l = [1,2,3,3,4,5,6,7,8]"
      ]
    },
    {
      "cell_type": "code",
      "execution_count": null,
      "id": "741834cb-b41f-4639-b591-b4d9138356b5",
      "metadata": {
        "id": "741834cb-b41f-4639-b591-b4d9138356b5",
        "outputId": "eb818921-85f9-43e5-c91f-533ad2645146"
      },
      "outputs": [
        {
          "name": "stdout",
          "output_type": "stream",
          "text": [
            "2\n",
            "3\n",
            "4\n",
            "4\n",
            "5\n",
            "6\n",
            "7\n",
            "8\n",
            "9\n"
          ]
        },
        {
          "data": {
            "text/plain": [
              "[2, 3, 4, 4, 5, 6, 7, 8, 9]"
            ]
          },
          "execution_count": 119,
          "metadata": {},
          "output_type": "execute_result"
        }
      ],
      "source": [
        "l1 = []\n",
        "for i in l :\n",
        "    l1.append(i+1)\n",
        "    print(i+1)\n",
        "l1"
      ]
    },
    {
      "cell_type": "code",
      "execution_count": null,
      "id": "5ce68476-fb22-4199-abf5-82dd1ba9098b",
      "metadata": {
        "id": "5ce68476-fb22-4199-abf5-82dd1ba9098b"
      },
      "outputs": [],
      "source": []
    },
    {
      "cell_type": "code",
      "execution_count": null,
      "id": "e8321831-f0d3-491d-b7a4-b9c224cae5c9",
      "metadata": {
        "id": "e8321831-f0d3-491d-b7a4-b9c224cae5c9"
      },
      "outputs": [],
      "source": []
    },
    {
      "cell_type": "code",
      "execution_count": null,
      "id": "7f9a8af5-f494-4295-b0a0-ab868efe094c",
      "metadata": {
        "id": "7f9a8af5-f494-4295-b0a0-ab868efe094c",
        "outputId": "c7ed18ff-1708-4608-9d90-c7802da1a32a"
      },
      "outputs": [
        {
          "data": {
            "text/plain": [
              "[1, 2, 3, 3, 4, 5, 6, 7, 8]"
            ]
          },
          "execution_count": 87,
          "metadata": {},
          "output_type": "execute_result"
        }
      ],
      "source": [
        "l"
      ]
    },
    {
      "cell_type": "code",
      "execution_count": null,
      "id": "0db91fea-fa97-4115-bc50-83cdf35203bc",
      "metadata": {
        "id": "0db91fea-fa97-4115-bc50-83cdf35203bc"
      },
      "outputs": [],
      "source": [
        "l = [\"sudh\" , \"kumar\" , \"pwskills\" , \"course\"]"
      ]
    },
    {
      "cell_type": "code",
      "execution_count": null,
      "id": "01c7b1b3-05d2-4e81-9870-d2b01591f2c2",
      "metadata": {
        "id": "01c7b1b3-05d2-4e81-9870-d2b01591f2c2",
        "outputId": "6e53d7ea-a03d-4c51-88d5-4143db248aaf"
      },
      "outputs": [
        {
          "name": "stdout",
          "output_type": "stream",
          "text": [
            "sudh\n",
            "kumar\n",
            "pwskills\n",
            "course\n"
          ]
        }
      ],
      "source": [
        "l1 = []\n",
        "for i in l :\n",
        "    print(i)\n",
        "    l1.append(i.upper())"
      ]
    },
    {
      "cell_type": "code",
      "execution_count": null,
      "id": "aa2f22b4-7831-477b-a522-c7715620a288",
      "metadata": {
        "id": "aa2f22b4-7831-477b-a522-c7715620a288",
        "outputId": "2556b065-e35b-49b1-82cf-f4ff2c89609e"
      },
      "outputs": [
        {
          "data": {
            "text/plain": [
              "['SUDH', 'KUMAR', 'PWSKILLS', 'COURSE']"
            ]
          },
          "execution_count": 92,
          "metadata": {},
          "output_type": "execute_result"
        }
      ],
      "source": [
        "l1"
      ]
    },
    {
      "cell_type": "code",
      "execution_count": null,
      "id": "d774bd3c-eca4-4e90-85ac-593270bcd9eb",
      "metadata": {
        "id": "d774bd3c-eca4-4e90-85ac-593270bcd9eb"
      },
      "outputs": [],
      "source": [
        "l = [1,2,3,4,4,\"sudh\" , \"kmumar\" , 324,34.456,\"abc\"]"
      ]
    },
    {
      "cell_type": "code",
      "execution_count": null,
      "id": "7f946d3f-8b87-4f90-a494-0b94e472433a",
      "metadata": {
        "id": "7f946d3f-8b87-4f90-a494-0b94e472433a"
      },
      "outputs": [],
      "source": [
        "l1_num = []\n",
        "l2_str = []\n",
        "for i in l :\n",
        "    if type(i) == int or type(i) == float :\n",
        "        l1_num.append(i)\n",
        "    else :\n",
        "        l2_str.append(i)"
      ]
    },
    {
      "cell_type": "code",
      "execution_count": null,
      "id": "78fc770b-66f2-4252-af13-0f192b55ba0f",
      "metadata": {
        "id": "78fc770b-66f2-4252-af13-0f192b55ba0f",
        "outputId": "e972ad04-1027-4c3e-af5a-62df251a3cc6"
      },
      "outputs": [
        {
          "data": {
            "text/plain": [
              "[1, 2, 3, 4, 4, 324, 34.456]"
            ]
          },
          "execution_count": 97,
          "metadata": {},
          "output_type": "execute_result"
        }
      ],
      "source": [
        "l1_num"
      ]
    },
    {
      "cell_type": "code",
      "execution_count": null,
      "id": "04f1e78e-5853-475d-aeb8-0d77c4cb8fb3",
      "metadata": {
        "id": "04f1e78e-5853-475d-aeb8-0d77c4cb8fb3",
        "outputId": "7567b044-e554-4a9a-b876-6e0446ddd921"
      },
      "outputs": [
        {
          "data": {
            "text/plain": [
              "['sudh', 'kmumar', 'abc']"
            ]
          },
          "execution_count": 98,
          "metadata": {},
          "output_type": "execute_result"
        }
      ],
      "source": [
        "l2_str"
      ]
    },
    {
      "cell_type": "code",
      "execution_count": null,
      "id": "a5d2c83d-436d-467c-9572-c07d87f4412e",
      "metadata": {
        "id": "a5d2c83d-436d-467c-9572-c07d87f4412e"
      },
      "outputs": [],
      "source": [
        "100+ sample"
      ]
    },
    {
      "cell_type": "code",
      "execution_count": null,
      "id": "4090412b-7795-400f-9039-db9c1b263537",
      "metadata": {
        "id": "4090412b-7795-400f-9039-db9c1b263537"
      },
      "outputs": [],
      "source": [
        "[] - list\n",
        "() - tuple\n",
        "{} - with flat element set\n",
        "{} - with key value pair dict"
      ]
    },
    {
      "cell_type": "code",
      "execution_count": null,
      "id": "e17558c2-fdde-42ff-913d-69bcf6b71a04",
      "metadata": {
        "id": "e17558c2-fdde-42ff-913d-69bcf6b71a04"
      },
      "outputs": [],
      "source": [
        "t = (True,4,5,6)"
      ]
    },
    {
      "cell_type": "code",
      "execution_count": null,
      "id": "a6318b84-6018-49ae-b870-60ab797cc7aa",
      "metadata": {
        "id": "a6318b84-6018-49ae-b870-60ab797cc7aa",
        "outputId": "8766e27e-bb4e-4a69-deb9-c982fb358bfb"
      },
      "outputs": [
        {
          "data": {
            "text/plain": [
              "4"
            ]
          },
          "execution_count": 108,
          "metadata": {},
          "output_type": "execute_result"
        }
      ],
      "source": [
        "len(t)"
      ]
    },
    {
      "cell_type": "code",
      "execution_count": null,
      "id": "29862dc8-78da-427b-85ca-4d2d25bb0084",
      "metadata": {
        "id": "29862dc8-78da-427b-85ca-4d2d25bb0084",
        "outputId": "dc1547da-7950-478f-ade6-03c7914bf0f0"
      },
      "outputs": [
        {
          "data": {
            "text/plain": [
              "1"
            ]
          },
          "execution_count": 109,
          "metadata": {},
          "output_type": "execute_result"
        }
      ],
      "source": [
        "t.count(True)"
      ]
    },
    {
      "cell_type": "code",
      "execution_count": null,
      "id": "d9d9be92-0644-4fa8-af68-afa75cb832b0",
      "metadata": {
        "id": "d9d9be92-0644-4fa8-af68-afa75cb832b0"
      },
      "outputs": [],
      "source": [
        "s2 = (1,4,7.7,\"class\",True)"
      ]
    },
    {
      "cell_type": "code",
      "execution_count": null,
      "id": "1bf37dd0-1a83-42fa-8445-b840cfa7e2e9",
      "metadata": {
        "id": "1bf37dd0-1a83-42fa-8445-b840cfa7e2e9",
        "outputId": "cb20c7f6-0d3a-4581-d1fb-4cceb07f9dfc"
      },
      "outputs": [
        {
          "data": {
            "text/plain": [
              "2"
            ]
          },
          "execution_count": 111,
          "metadata": {},
          "output_type": "execute_result"
        }
      ],
      "source": [
        "s2.count(True)"
      ]
    },
    {
      "cell_type": "code",
      "execution_count": null,
      "id": "7deefa81-55f7-4da0-b923-d773a8612431",
      "metadata": {
        "id": "7deefa81-55f7-4da0-b923-d773a8612431",
        "outputId": "d56f2892-50a0-4ab0-e310-455b13666267"
      },
      "outputs": [
        {
          "name": "stdout",
          "output_type": "stream",
          "text": [
            "you will be part of A1 batch\n"
          ]
        }
      ],
      "source": [
        "marks = 67\n",
        "if marks >= 80 :\n",
        "    print(\"you will be part of A0 batch\")\n",
        "elif marks >= 60 and marks < 80 :\n",
        "    print(\"you will be part of A1 batch\")\n",
        "elif marks >= 40 and marks < 60 :\n",
        "    print(\"you will be part of A2 batch\")\n",
        "else :\n",
        "    print(\"you will be part of A3 batch\")\n"
      ]
    },
    {
      "cell_type": "code",
      "execution_count": null,
      "id": "ec78cd90-1f3a-4f63-b91d-9fced7d3fdd1",
      "metadata": {
        "id": "ec78cd90-1f3a-4f63-b91d-9fced7d3fdd1",
        "outputId": "356dc35a-7260-48ab-de5d-2cfd695f3f74"
      },
      "outputs": [
        {
          "name": "stdout",
          "output_type": "stream",
          "text": [
            "you will be a part of A1 batch\n"
          ]
        }
      ],
      "source": [
        "marks = 70\n",
        "if marks >= 80 :\n",
        "    print(\"you will be a part of A0 batch\")\n",
        "if marks >= 60 and  marks <80 :\n",
        "    print(\"you will be a part of A1 batch\")\n",
        "elif marks >= 40 and marks < 60 :\n",
        "    print(\"you will be a part of A2 batch\")\n",
        "else :\n",
        "    print(\"you will be a part of A3 batch\")\n"
      ]
    },
    {
      "cell_type": "markdown",
      "id": "08a9c3a9-f48e-49f0-ac07-45fddbda9e80",
      "metadata": {
        "id": "08a9c3a9-f48e-49f0-ac07-45fddbda9e80"
      },
      "source": [
        "\n",
        "sdfas ff fsdfas dasdfasdf asdasdfasdf as\n",
        "asdfas\n",
        "fasd\n",
        "fs\n",
        "f\n",
        "asf\n",
        "asdf\n",
        "asdf\n",
        "asdf\n",
        "sdf\n",
        "asdf\n",
        "sf\n",
        "sdf\n",
        "asf\n",
        "sd\n",
        "fasd\n",
        "fasd"
      ]
    },
    {
      "cell_type": "code",
      "execution_count": null,
      "id": "0e743998-133d-4712-8ee0-577f32fc775b",
      "metadata": {
        "id": "0e743998-133d-4712-8ee0-577f32fc775b",
        "outputId": "a4822b45-4464-4d11-c9ce-02e914fef169"
      },
      "outputs": [
        {
          "name": "stdout",
          "output_type": "stream",
          "text": [
            "you will be part of A1 batch\n"
          ]
        }
      ],
      "source": [
        "marks = int(input(\"enter your marks\"))\n",
        "\n",
        "if marks > 100 :\n",
        "    print(\"this is not a valid marks )\n",
        "else :\n",
        "    if marks >= 80 :\n",
        "        print(\"you will be part of A0 batch\")\n",
        "    elif marks >= 60 and marks < 80 :\n",
        "        print(\"you will be part of A1 batch\")\n",
        "    elif marks >= 40 and marks < 60 :\n",
        "        print(\"you will be part of A2 batch\")\n",
        "    else :\n",
        "        print(\"you will be part of A3 batch\")\n"
      ]
    },
    {
      "cell_type": "code",
      "execution_count": null,
      "id": "efb92cf4-7ff7-42d1-ab73-647626c5e388",
      "metadata": {
        "id": "efb92cf4-7ff7-42d1-ab73-647626c5e388"
      },
      "outputs": [],
      "source": [
        "s = \"munna\""
      ]
    },
    {
      "cell_type": "code",
      "execution_count": null,
      "id": "4c19496b-5175-40cf-81dc-61090b335ad8",
      "metadata": {
        "id": "4c19496b-5175-40cf-81dc-61090b335ad8",
        "outputId": "9f86112b-88f7-43c4-f24c-16f16e8f69d5"
      },
      "outputs": [
        {
          "ename": "TypeError",
          "evalue": "'str' object does not support item assignment",
          "output_type": "error",
          "traceback": [
            "\u001b[0;31m---------------------------------------------------------------------------\u001b[0m",
            "\u001b[0;31mTypeError\u001b[0m                                 Traceback (most recent call last)",
            "Cell \u001b[0;32mIn[125], line 1\u001b[0m\n\u001b[0;32m----> 1\u001b[0m \u001b[43ms\u001b[49m\u001b[43m[\u001b[49m\u001b[38;5;241;43m0\u001b[39;49m\u001b[43m]\u001b[49m \u001b[38;5;241m=\u001b[39m \u001b[38;5;241m1\u001b[39m\n",
            "\u001b[0;31mTypeError\u001b[0m: 'str' object does not support item assignment"
          ]
        }
      ],
      "source": [
        "s[0] = 1"
      ]
    },
    {
      "cell_type": "code",
      "execution_count": null,
      "id": "383c0c71-48e1-4387-b8d2-c0965fdce21e",
      "metadata": {
        "id": "383c0c71-48e1-4387-b8d2-c0965fdce21e"
      },
      "outputs": [],
      "source": [
        "l = [1,2,3,45]"
      ]
    },
    {
      "cell_type": "code",
      "execution_count": null,
      "id": "3208c292-c838-46f7-bdf4-93305ef21905",
      "metadata": {
        "id": "3208c292-c838-46f7-bdf4-93305ef21905"
      },
      "outputs": [],
      "source": [
        "l[0] = 100"
      ]
    },
    {
      "cell_type": "code",
      "execution_count": null,
      "id": "189949a7-c977-4d6d-b7fd-c14d45badd57",
      "metadata": {
        "id": "189949a7-c977-4d6d-b7fd-c14d45badd57",
        "outputId": "ba700d99-1c81-47c3-b3ab-91b579c057bb"
      },
      "outputs": [
        {
          "data": {
            "text/plain": [
              "[100, 2, 3, 45]"
            ]
          },
          "execution_count": 129,
          "metadata": {},
          "output_type": "execute_result"
        }
      ],
      "source": [
        "l"
      ]
    },
    {
      "cell_type": "code",
      "execution_count": null,
      "id": "ccf66083-4c88-4aaa-850b-135a52bd4b64",
      "metadata": {
        "id": "ccf66083-4c88-4aaa-850b-135a52bd4b64",
        "outputId": "34d5b27b-bfc7-465c-9c5d-6189baf9317f"
      },
      "outputs": [
        {
          "name": "stdout",
          "output_type": "stream",
          "text": [
            "101\n",
            "3\n",
            "4\n",
            "46\n"
          ]
        },
        {
          "data": {
            "text/plain": [
              "[101, 3, 4, 46]"
            ]
          },
          "execution_count": 131,
          "metadata": {},
          "output_type": "execute_result"
        }
      ],
      "source": [
        "l2 = []\n",
        "for i in l :\n",
        "    l2.append(i+1)\n",
        "    print(i+1)\n",
        "l2"
      ]
    },
    {
      "cell_type": "code",
      "execution_count": null,
      "id": "91732a5b-3181-4d7e-b628-8bbdf2773797",
      "metadata": {
        "id": "91732a5b-3181-4d7e-b628-8bbdf2773797",
        "outputId": "b3041b0f-f910-459c-e696-716902741996"
      },
      "outputs": [
        {
          "name": "stdout",
          "output_type": "stream",
          "text": [
            "3\n",
            "4\n",
            "5\n",
            "5\n",
            "6\n",
            "7\n",
            "8\n",
            "9\n",
            "10\n"
          ]
        },
        {
          "data": {
            "text/plain": [
              "[3, 4, 5, 5, 6, 7, 8, 9, 10]"
            ]
          },
          "execution_count": 132,
          "metadata": {},
          "output_type": "execute_result"
        }
      ],
      "source": [
        "l2 = []\n",
        "for i in l1 :\n",
        "    l2.append(i+1)\n",
        "    print(i+1)\n",
        "l2"
      ]
    },
    {
      "cell_type": "code",
      "execution_count": null,
      "id": "6cebbed4-87aa-409a-9c46-065900fd4d8a",
      "metadata": {
        "id": "6cebbed4-87aa-409a-9c46-065900fd4d8a",
        "outputId": "a9ae506c-1c52-44fa-862d-8d85b2833143"
      },
      "outputs": [
        {
          "name": "stdout",
          "output_type": "stream",
          "text": [
            "a\n",
            "k\n",
            "s\n",
            "h\n",
            "a\n",
            "t\n"
          ]
        }
      ],
      "source": [
        "for ak in \"akshat\":\n",
        "    print(ak)\n"
      ]
    },
    {
      "cell_type": "code",
      "execution_count": null,
      "id": "699c6b0f-a456-4ca7-8112-1a70ff98d1f6",
      "metadata": {
        "id": "699c6b0f-a456-4ca7-8112-1a70ff98d1f6",
        "outputId": "bdc63ad3-1f3d-471f-983e-617cac9c91d6"
      },
      "outputs": [
        {
          "name": "stdout",
          "output_type": "stream",
          "text": [
            "keys :  ['a', 'b', 'c']\n",
            "values :  ['akshat', 'bhuvan', 'chandan']\n"
          ]
        }
      ],
      "source": [
        "dict1 = {'a': 'akshat', 'b': 'bhuvan', 'c': 'chandan'}\n",
        "\n",
        "keys = []\n",
        "values = []\n",
        "for item in dict1.items():\n",
        "    keys.append(item[0]), values.append(item[1])\n",
        "\n",
        "print(\"keys : \", keys)\n",
        "print(\"values : \", values)\n"
      ]
    },
    {
      "cell_type": "code",
      "execution_count": null,
      "id": "e69cdafe-3c7c-49e4-87fd-4ccce33355fd",
      "metadata": {
        "id": "e69cdafe-3c7c-49e4-87fd-4ccce33355fd",
        "outputId": "80a0de9d-d2b7-4419-941a-333ce45ed84b"
      },
      "outputs": [
        {
          "data": {
            "text/plain": [
              "{'launch_date': {12, 14, 28},\n",
              " 'class_time': {'web_dev': 8,\n",
              "  'Data science masters': 8,\n",
              "  'java with dsa and system design': 7},\n",
              " 'mentor': ['sudhanshu', 'krish', 'anurag', 'hayder']}"
            ]
          },
          "execution_count": 136,
          "metadata": {},
          "output_type": "execute_result"
        }
      ],
      "source": [
        "d6"
      ]
    },
    {
      "cell_type": "code",
      "execution_count": null,
      "id": "e7e1d0ea-4a6d-4f2f-8b85-e00d55113118",
      "metadata": {
        "id": "e7e1d0ea-4a6d-4f2f-8b85-e00d55113118",
        "outputId": "8ed38a78-9388-422e-eeab-05e4cf1e57b9"
      },
      "outputs": [
        {
          "data": {
            "text/plain": [
              "{3: None, 4: None, 5: None, 6: None}"
            ]
          },
          "execution_count": 137,
          "metadata": {},
          "output_type": "execute_result"
        }
      ],
      "source": [
        "d6.fromkeys([3,4,5,6])"
      ]
    },
    {
      "cell_type": "code",
      "execution_count": null,
      "id": "265274f4-afa6-4c68-bff1-edb6736fc4c1",
      "metadata": {
        "id": "265274f4-afa6-4c68-bff1-edb6736fc4c1"
      },
      "outputs": [],
      "source": []
    }
  ],
  "metadata": {
    "kernelspec": {
      "display_name": "Python 3 (ipykernel)",
      "language": "python",
      "name": "python3"
    },
    "language_info": {
      "codemirror_mode": {
        "name": "ipython",
        "version": 3
      },
      "file_extension": ".py",
      "mimetype": "text/x-python",
      "name": "python",
      "nbconvert_exporter": "python",
      "pygments_lexer": "ipython3",
      "version": "3.10.8"
    },
    "colab": {
      "provenance": []
    }
  },
  "nbformat": 4,
  "nbformat_minor": 5
}