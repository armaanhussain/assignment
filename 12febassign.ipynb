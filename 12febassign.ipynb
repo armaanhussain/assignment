{
 "cells": [
  {
   "cell_type": "raw",
   "id": "d15b92bd-4a35-4757-b293-ccb344349f07",
   "metadata": {},
   "source": [
    "Q1. What is an Exception in python ? Write the difference between exception and syntex error"
   ]
  },
  {
   "cell_type": "raw",
   "id": "9e40e484-5206-4f8d-ad2d-c9bbcf866da6",
   "metadata": {},
   "source": [
    "Ans1. Exceptions are raised when the program is syntactically correct, but the code results in an error. \n",
    "This error does not stop the execution of the program.\n",
    "Exception occur when programmer do a logical mistake in the code.\n",
    "Syntax Error occur when you forgot to write ‘;’ (semicolon) at the end of line or ‘{}’ \n",
    "(curly braces) or spelling mistake or accessing a variable which is not exist in your code."
   ]
  },
  {
   "cell_type": "raw",
   "id": "323906cd-c35e-4df9-99c4-726c174a122f",
   "metadata": {},
   "source": [
    "Q2. What happens when an Exception is not handlded? Explain with the help of an example."
   ]
  },
  {
   "cell_type": "raw",
   "id": "4958f5b5-40d4-402f-8395-9c86285aa406",
   "metadata": {},
   "source": [
    "Ans2. When an Exception is not handled then as soon as any error is found the flow of the \n",
    "code stops. \n",
    "For eg. \n",
    "\n",
    "while(True):\n",
    "    print(\"Press q to quit\")\n",
    "    a = input(\"Enter a number: \")\n",
    "    if a == 'q':\n",
    "        break\n",
    "    \n",
    "    print(\"Trying...\")\n",
    "    a = int(a)\n",
    "    if a>6:\n",
    "        print(\"You entered a number greater than 6\")\n",
    "\n",
    "\n",
    "The code above will stop as soon as an error is found, but the code below will neever stop as we have \n",
    "handled the exception\n",
    "\n",
    "while(True):\n",
    "    print(\"Press q to quit\")\n",
    "    a = input(\"Enter a number: \")\n",
    "    if a == 'q':\n",
    "        break\n",
    "    try:\n",
    "        print(\"Trying...\")\n",
    "        a = int(a)\n",
    "        if a>6:\n",
    "            print(\"You entered a number greater than 6\")\n",
    "    except Exception as e:\n",
    "        print(f\"Your input resulted in an error: {e}\")\n",
    "\n",
    "print(\"Thanks for playing this game\")\n"
   ]
  },
  {
   "cell_type": "raw",
   "id": "8840d00d-1578-4c8e-9c00-922116dafb4f",
   "metadata": {},
   "source": [
    "Q3. Which Python statements are used to catch and handle exceptions? Explain with an example."
   ]
  },
  {
   "cell_type": "raw",
   "id": "6a2a301b-f203-4569-b761-24699db1897c",
   "metadata": {},
   "source": [
    "Ans3. Try and Except statements are used to catch and handle the exceptions in python. \n",
    "For eg:\n",
    "try:\n",
    "    num = int(input(\"Enter a number: \"))\n",
    "    result = 10 / num\n",
    "    print(f\"The result is {result}\")\n",
    "except ValueError as ve:\n",
    "    print(f\"Error: {ve}. You must enter a valid integer.\")\n",
    "except ZeroDivisionError as zde:\n",
    "    print(f\"Error: {zde}. You cannot divide by zero.\")\n",
    "except Exception as e:\n",
    "    print(f\"An unexpected error occurred: {e}\")"
   ]
  },
  {
   "cell_type": "raw",
   "id": "121986ab-bcc3-4ba3-8027-27a0dec1720e",
   "metadata": {},
   "source": [
    "Q4. Explain with an example\n",
    "    a. try and else\n",
    "    b. finally\n",
    "    c. raise"
   ]
  },
  {
   "cell_type": "raw",
   "id": "450a7623-d478-4ce5-8cdf-5de061785b54",
   "metadata": {},
   "source": [
    "Ans4. \n",
    "a. In dition to the try and except blocks, Python also provides an optional else block that can be used \n",
    "in conjunction with exception handling. The else block is executed if no exceptions are raised in the try block.  \n",
    "For eg:   \n",
    "try:\n",
    "    num1 = int(input(\"Enter the first number: \"))\n",
    "    num2 = int(input(\"Enter the second number: \"))\n",
    "\n",
    "    result = num1 / num2\n",
    "\n",
    "except ValueError as ve:\n",
    "    print(f\"Error: {ve}. You must enter a valid integer.\")\n",
    "except ZeroDivisionError as zde:\n",
    "    print(f\"Error: {zde}. You cannot divide by zero.\")\n",
    "except Exception as e:\n",
    "    print(f\"An unexpected error occurred: {e}\")\n",
    "\n",
    "else:\n",
    "    print(f\"The result of {num1} divided by {num2} is {result}\")\n",
    "\n",
    "\n",
    "\n",
    "b. The finally block is used in conjunction with a try block and is executed no matter what, whether an \n",
    "exception occurs or not. This block is typically used for cleanup operations that must be performed regardless\n",
    "of whether an exception was raised.\n",
    "\n",
    "try:\n",
    "    file = open(\"example.txt\", \"r\")\n",
    "    content = file.read()\n",
    "    print(content)\n",
    "except FileNotFoundError as fnfe:\n",
    "    print(f\"Error: {fnfe}. The file does not exist.\")\n",
    "except Exception as e:\n",
    "    print(f\"An unexpected error occurred: {e}\")\n",
    "finally:\n",
    "    if 'file' in locals() and not file.closed:\n",
    "        file.close()\n",
    "\n",
    "\n",
    "\n",
    "\n",
    "c. The raise statement in Python is used to deliberately raise an exception. This can be useful when you want \n",
    "to indicate that a specific error condition has occurred, even if it's not automatically detected by Python\n",
    "\n",
    "\n",
    "def divide(x, y):\n",
    "    if y == 0:\n",
    "        raise ZeroDivisionError(\"Cannot divide by zero\")\n",
    "    return x / y\n",
    "\n",
    "try:\n",
    "    result = divide(10, 0)\n",
    "    print(f\"The result is {result}\")\n",
    "except ZeroDivisionError as zde:\n",
    "    print(f\"Error: {zde}\")\n",
    "\n"
   ]
  },
  {
   "cell_type": "code",
   "execution_count": null,
   "id": "592843bc-8d93-4c5a-9c8a-e8f13d959c09",
   "metadata": {},
   "outputs": [],
   "source": []
  },
  {
   "cell_type": "code",
   "execution_count": null,
   "id": "2b856cf8-4214-4f23-89bb-8ea33ca8bad9",
   "metadata": {},
   "outputs": [],
   "source": []
  },
  {
   "cell_type": "code",
   "execution_count": null,
   "id": "254bc27c-3e1c-474f-854d-971d17d2fb00",
   "metadata": {},
   "outputs": [],
   "source": []
  },
  {
   "cell_type": "code",
   "execution_count": null,
   "id": "08771c60-8046-4dcb-bd05-58c10a7abf27",
   "metadata": {},
   "outputs": [],
   "source": []
  }
 ],
 "metadata": {
  "kernelspec": {
   "display_name": "Python 3 (ipykernel)",
   "language": "python",
   "name": "python3"
  },
  "language_info": {
   "codemirror_mode": {
    "name": "ipython",
    "version": 3
   },
   "file_extension": ".py",
   "mimetype": "text/x-python",
   "name": "python",
   "nbconvert_exporter": "python",
   "pygments_lexer": "ipython3",
   "version": "3.10.8"
  }
 },
 "nbformat": 4,
 "nbformat_minor": 5
}
