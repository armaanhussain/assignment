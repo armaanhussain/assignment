{
 "cells": [
  {
   "cell_type": "code",
   "execution_count": 1,
   "id": "72bace01-57fb-433f-8d9d-4cc91311e6ce",
   "metadata": {},
   "outputs": [],
   "source": [
    "#Q1\n",
    "#i)\n",
    "str = \"Armaan\"\n",
    "#ii)\n",
    "lst = [34,45.5, \"Data Science \"]\n",
    "#iii)\n",
    "flt = 44.4565\n",
    "#iv)\n",
    "t = (55,\"pwskills\", 88.977)\n",
    "\n"
   ]
  },
  {
   "cell_type": "code",
   "execution_count": 2,
   "id": "94026aca-c96b-4d8c-a9c9-2c4c48a74958",
   "metadata": {},
   "outputs": [
    {
     "ename": "SyntaxError",
     "evalue": "unmatched ')' (3956913599.py, line 3)",
     "output_type": "error",
     "traceback": [
      "\u001b[0;36m  Cell \u001b[0;32mIn[2], line 3\u001b[0;36m\u001b[0m\n\u001b[0;31m    i) String /str\u001b[0m\n\u001b[0m     ^\u001b[0m\n\u001b[0;31mSyntaxError\u001b[0m\u001b[0;31m:\u001b[0m unmatched ')'\n"
     ]
    }
   ],
   "source": [
    "Q2\n",
    "\n",
    "i) String /str\n",
    "ii) String /str\n",
    "ii) List\n",
    "iv) Integer / int\n",
    "\n"
   ]
  },
  {
   "cell_type": "code",
   "execution_count": 3,
   "id": "40cf6e43-17f3-45c9-99b1-0b9ee04c6670",
   "metadata": {},
   "outputs": [
    {
     "ename": "SyntaxError",
     "evalue": "unmatched ')' (153306367.py, line 3)",
     "output_type": "error",
     "traceback": [
      "\u001b[0;36m  Cell \u001b[0;32mIn[3], line 3\u001b[0;36m\u001b[0m\n\u001b[0;31m    i) /\u001b[0m\n\u001b[0m     ^\u001b[0m\n\u001b[0;31mSyntaxError\u001b[0m\u001b[0;31m:\u001b[0m unmatched ')'\n"
     ]
    }
   ],
   "source": [
    "Q3\n",
    "\n",
    "i) / \n",
    "It is used as a division operator in Python . For eg 10/2 = 5\n",
    "\n",
    "ii) %\n",
    "It is used to give the remainder in Python . For eg 10%2 = 0\n",
    "\n",
    "iii) //\n",
    "It is used to give floor division in python . For eg 7//2 = 3\n",
    "\n",
    "iv) **\n",
    "It is used to raise the power in python . For eg 4**2 = 16.\n",
    "\n",
    "\n"
   ]
  },
  {
   "cell_type": "code",
   "execution_count": 4,
   "id": "7170ba46-8bfd-4b9d-8e37-43c76e00f680",
   "metadata": {},
   "outputs": [
    {
     "name": "stdout",
     "output_type": "stream",
     "text": [
      "The data type of 4 is <class 'int'> \n",
      "The data type of 56 is <class 'int'> \n",
      "The data type of 55.89 is <class 'float'> \n",
      "The data type of Data Science is <class 'str'> \n",
      "The data type of 88 is <class 'int'> \n",
      "The data type of 909.654 is <class 'float'> \n",
      "The data type of PwSkills is <class 'str'> \n",
      "The data type of Python is <class 'str'> \n",
      "The data type of ML is <class 'str'> \n",
      "The data type of 3500 is <class 'int'> \n"
     ]
    }
   ],
   "source": [
    "#Q4\n",
    "\n",
    "l = [4,56,55.89, \"Data Science\" , 88,909.654,\"PwSkills\", \"Python\", \"ML\", 3500]\n",
    "\n",
    "for i in  l :\n",
    "    print (f\"The data type of {i} is {type(i)} \")\n",
    "           \n",
    " "
   ]
  },
  {
   "cell_type": "code",
   "execution_count": 6,
   "id": "70a1184c-eeb6-4318-b181-8e70aa218693",
   "metadata": {},
   "outputs": [
    {
     "name": "stdin",
     "output_type": "stream",
     "text": [
      "Enter the value of a 10\n",
      "Enter the value of b 5\n"
     ]
    },
    {
     "name": "stdout",
     "output_type": "stream",
     "text": [
      "Yes a is completely divisible by b\n",
      "2\n"
     ]
    }
   ],
   "source": [
    "#Q5\n",
    "a = int(input(\"Enter the value of a\"))\n",
    "b = int(input(\"Enter the value of b\"))\n",
    "       \n",
    "while(True):\n",
    "    if a%b ==0 :\n",
    "        print (\"Yes a is completely divisible by b\")\n",
    "        print(a//b )\n",
    "        break\n",
    "        \n",
    "    else :\n",
    "        print(\"a is not completely divisible by b\")"
   ]
  },
  {
   "cell_type": "code",
   "execution_count": 13,
   "id": "9083a5dc-32e6-4657-bc21-b4247a3a3c4d",
   "metadata": {},
   "outputs": [
    {
     "name": "stdout",
     "output_type": "stream",
     "text": [
      "33 is divisible by 3\n",
      "45 is divisible by 3\n",
      "60 is divisible by 3\n",
      "4 is not divisible by 3\n",
      "44 is not divisible by 3\n",
      "567 is divisible by 3\n",
      "67 is not divisible by 3\n",
      "89 is not divisible by 3\n",
      "90 is divisible by 3\n",
      "94 is not divisible by 3\n",
      "12 is divisible by 3\n",
      "34 is not divisible by 3\n",
      "98 is not divisible by 3\n",
      "34 is not divisible by 3\n",
      "56 is not divisible by 3\n",
      "98 is not divisible by 3\n",
      "23 is not divisible by 3\n",
      "18 is divisible by 3\n",
      "20 is not divisible by 3\n",
      "45 is divisible by 3\n",
      "52 is not divisible by 3\n",
      "13 is not divisible by 3\n",
      "34 is not divisible by 3\n",
      "23 is not divisible by 3\n",
      "44 is not divisible by 3\n"
     ]
    }
   ],
   "source": [
    "#Q6\n",
    "l1 = [33,45,60,4,44,567,67,89,90,94,12,34,98,34,56,98,23,18,20,45,52,13,34,23,44]\n",
    "\n",
    "for i in l1:\n",
    "    if i % 3 ==0:\n",
    "        print(f\"{i} is divisible by 3\")\n",
    "    else :\n",
    "        print(f\"{i} is not divisible by 3\")\n",
    "            \n",
    "\n"
   ]
  },
  {
   "cell_type": "code",
   "execution_count": null,
   "id": "c785180c-ebcf-4b43-93fb-0592df7b417b",
   "metadata": {},
   "outputs": [],
   "source": [
    "#Q7\n",
    "MUTABLE : Mutable data types are those whose values can be changed. For eg List , Dictionary\n",
    "IMMUTABLE : Immutable data types are those whose values cannot be changed . For eg Tuples, String"
   ]
  },
  {
   "cell_type": "code",
   "execution_count": null,
   "id": "29773a90-064c-46d7-8594-a6c7d7171b24",
   "metadata": {},
   "outputs": [],
   "source": []
  },
  {
   "cell_type": "code",
   "execution_count": null,
   "id": "46d946fa-a6e7-4f41-adfa-ad94212d04cf",
   "metadata": {},
   "outputs": [],
   "source": []
  }
 ],
 "metadata": {
  "kernelspec": {
   "display_name": "Python 3 (ipykernel)",
   "language": "python",
   "name": "python3"
  },
  "language_info": {
   "codemirror_mode": {
    "name": "ipython",
    "version": 3
   },
   "file_extension": ".py",
   "mimetype": "text/x-python",
   "name": "python",
   "nbconvert_exporter": "python",
   "pygments_lexer": "ipython3",
   "version": "3.10.8"
  }
 },
 "nbformat": 4,
 "nbformat_minor": 5
}
