{
  "nbformat": 4,
  "nbformat_minor": 0,
  "metadata": {
    "colab": {
      "provenance": []
    },
    "kernelspec": {
      "name": "python3",
      "display_name": "Python 3"
    },
    "language_info": {
      "name": "python"
    }
  },
  "cells": [
    {
      "cell_type": "code",
      "source": [
        "import pandas as pd"
      ],
      "metadata": {
        "id": "fpT4UX7n79Vq"
      },
      "execution_count": 2,
      "outputs": []
    },
    {
      "cell_type": "code",
      "source": [
        "Q1. List any five functions of the pandas library with execution.\n",
        "Ans1.\n",
        "1.read_csv() : used to read csv files.\n",
        "\n",
        "# Reading a CSV file into a DataFrame\n",
        "data = pd.read_csv('data.csv')\n",
        "print(data.head())\n",
        "\n",
        "\n",
        "2.head() : Function: Displays the first few rows of a DataFrame.\n",
        "\n",
        "data = {\n",
        "    'Name': ['Alice', 'Bob', 'Charlie'],\n",
        "    'Age': [25, 30, 35],\n",
        "    'City': ['New York', 'San Francisco', 'Los Angeles']\n",
        "}\n",
        "df = pd.DataFrame(data)\n",
        "\n",
        "print(df.head())\n",
        "\n",
        "3. groupby() : Function: Groups data based on a categorical variable for further analysis.\n",
        "\n",
        "data = {\n",
        "    'City': ['New York', 'San Francisco', 'New York', 'San Francisco'],\n",
        "    'Sales': [100, 150, 200, 120]\n",
        "}\n",
        "df = pd.DataFrame(data)\n",
        "\n",
        "grouped_data = df.groupby('City').sum()  # Grouping sales data by city and finding the sum\n",
        "print(grouped_data)\n",
        "\n",
        "\n",
        "4.fillna() : Function: Fills missing values in a DataFrame with a specified value or method.\n",
        "\n",
        "import pandas as pd\n",
        "import numpy as np\n",
        "\n",
        "# Creating a DataFrame with missing values\n",
        "data = {\n",
        "    'A': [1, 2, np.nan, 4],\n",
        "    'B': [5, np.nan, 7, 8]\n",
        "}\n",
        "df = pd.DataFrame(data)\n",
        "\n",
        "filled_df = df.fillna(0)  # Filling missing values with 0\n",
        "print(filled_df)\n",
        "\n",
        "\n",
        "5. concat() : Function: Concatenates DataFrames along a particular axis.\n",
        "\n",
        "import pandas as pd\n",
        "\n",
        "# Creating two DataFrames\n",
        "data1 = {'A': [1, 2], 'B': [3, 4]}\n",
        "data2 = {'A': [5, 6], 'B': [7, 8]}\n",
        "df1 = pd.DataFrame(data1)\n",
        "df2 = pd.DataFrame(data2)\n",
        "\n",
        "concatenated = pd.concat([df1, df2])  # Concatenating two DataFrames\n",
        "print(concatenated)\n",
        "\n",
        "\n",
        "\n"
      ],
      "metadata": {
        "colab": {
          "base_uri": "https://localhost:8080/",
          "height": 140
        },
        "id": "1m6dL2RJHCMi",
        "outputId": "8b0e12d4-3a2d-4c5d-f1fe-d73d4d5d62a4"
      },
      "execution_count": 3,
      "outputs": [
        {
          "output_type": "error",
          "ename": "SyntaxError",
          "evalue": "ignored",
          "traceback": [
            "\u001b[0;36m  File \u001b[0;32m\"<ipython-input-3-fdc4026971ef>\"\u001b[0;36m, line \u001b[0;32m3\u001b[0m\n\u001b[0;31m    1.read_csv() : used to read csv files.\u001b[0m\n\u001b[0m     ^\u001b[0m\n\u001b[0;31mSyntaxError\u001b[0m\u001b[0;31m:\u001b[0m invalid decimal literal\n"
          ]
        }
      ]
    },
    {
      "cell_type": "code",
      "source": [
        "#Q2. Given a Pandas DataFrame df with columns 'A', 'B', and 'C', write a Python function to re-index the\n",
        "#DataFrame with a new index that starts from 1 and increments by 2 for each row.\n",
        "#Ans2.\n",
        "import pandas as pd\n",
        "\n",
        "data = {\n",
        "    'A': [1, 2, 3, 4],\n",
        "    'B': [5, 6, 7, 8],\n",
        "    'C': [9, 10, 11, 12]\n",
        "}\n",
        "df = pd.DataFrame(data)\n",
        "\n",
        "def reindex_with_increment(df):\n",
        "    new_index = pd.RangeIndex(start=1, stop=len(df) * 2, step=2)\n",
        "    df = df.set_index(new_index)\n",
        "    return df\n",
        "\n",
        "\n",
        "new_df = reindex_with_increment(df)\n",
        "print(new_df)\n"
      ],
      "metadata": {
        "colab": {
          "base_uri": "https://localhost:8080/"
        },
        "id": "yp8zkBJ5Jv2F",
        "outputId": "420336ac-5296-4941-b5cd-67d590a12885"
      },
      "execution_count": 1,
      "outputs": [
        {
          "output_type": "stream",
          "name": "stdout",
          "text": [
            "   A  B   C\n",
            "1  1  5   9\n",
            "3  2  6  10\n",
            "5  3  7  11\n",
            "7  4  8  12\n"
          ]
        }
      ]
    },
    {
      "cell_type": "code",
      "source": [
        "#Q3. You have a Pandas DataFrame df with a column named 'Values'. Write a Python function that\n",
        "#iterates over the DataFrame and calculates the sum of the first three values in the 'Values' column. The\n",
        "#function should print the sum to the console.\n",
        "\n",
        "#Ans3.\n",
        "\n",
        "import pandas as pd\n",
        "\n",
        "data = {\n",
        "    'Values': [10, 20, 30, 40, 50]\n",
        "}\n",
        "df = pd.DataFrame(data)\n",
        "\n",
        "def sum_first_three_values(df):\n",
        "\n",
        "    values_sum = df['Values'].head(3).sum()\n",
        "    print(\"Sum of the first three values:\", values_sum)\n",
        "\n",
        "sum_first_three_values(df)\n"
      ],
      "metadata": {
        "id": "DoCtNVH9LEwk",
        "colab": {
          "base_uri": "https://localhost:8080/"
        },
        "outputId": "acbd14bc-c20c-4bf5-cbca-af4c866baab7"
      },
      "execution_count": 4,
      "outputs": [
        {
          "output_type": "stream",
          "name": "stdout",
          "text": [
            "Sum of the first three values: 60\n"
          ]
        }
      ]
    },
    {
      "cell_type": "code",
      "source": [
        "#Q4. Given a Pandas DataFrame df with a column 'Text', write a Python function to create a new column\n",
        "#'Word_Count' that contains the number of words in each row of the 'Text' column.\n",
        "\n",
        "#Ans4\n",
        "\n",
        "import pandas as pd\n",
        "\n",
        "\n",
        "data = {\n",
        "    'Text': [\n",
        "        \"This is a sample sentence.\",\n",
        "        \"Count the words in this one.\",\n",
        "        \"Another example for word count.\"\n",
        "    ]\n",
        "}\n",
        "df = pd.DataFrame(data)\n",
        "\n",
        "def count_words(row):\n",
        "    return len(row.split())\n",
        "\n",
        "def add_word_count_column(df):\n",
        "    df['Word_Count'] = df['Text'].apply(lambda x: count_words(x))\n",
        "    return df\n",
        "\n",
        "\n",
        "df = add_word_count_column(df)\n",
        "print(df)\n"
      ],
      "metadata": {
        "colab": {
          "base_uri": "https://localhost:8080/"
        },
        "id": "bMui8SzgXNXO",
        "outputId": "5ff9e7d3-1a00-44c0-8b2c-0bff54d09105"
      },
      "execution_count": 5,
      "outputs": [
        {
          "output_type": "stream",
          "name": "stdout",
          "text": [
            "                              Text  Word_Count\n",
            "0       This is a sample sentence.           5\n",
            "1     Count the words in this one.           6\n",
            "2  Another example for word count.           5\n"
          ]
        }
      ]
    },
    {
      "cell_type": "code",
      "source": [
        "Q5. How are DataFrame.size() and DataFrame.shape() different?\n",
        "\n",
        "Ans5.\n",
        "DataFrame.size: This attribute returns the total number of elements present in the DataFrame. It calculates the size by\n",
        "multiplying the number of rows by the number of columns in the DataFrame. Therefore, DataFrame.size gives the total count of\n",
        "all the cells (entries) in the DataFrame.\n",
        "\n",
        "DataFrame.shape: This attribute returns a tuple representing the dimensions of the DataFrame. It provides the number of rows\n",
        "followed by the number of columns in the DataFrame. The output is in the format (number of rows, number of columns)."
      ],
      "metadata": {
        "colab": {
          "base_uri": "https://localhost:8080/",
          "height": 140
        },
        "id": "mdW14h_PXiOe",
        "outputId": "53b7e117-7a70-44cc-b6a8-b8ec5e4b2305"
      },
      "execution_count": 6,
      "outputs": [
        {
          "output_type": "error",
          "ename": "SyntaxError",
          "evalue": "ignored",
          "traceback": [
            "\u001b[0;36m  File \u001b[0;32m\"<ipython-input-6-bdb40cbd0ae3>\"\u001b[0;36m, line \u001b[0;32m3\u001b[0m\n\u001b[0;31m    Ans5.\u001b[0m\n\u001b[0m          ^\u001b[0m\n\u001b[0;31mSyntaxError\u001b[0m\u001b[0;31m:\u001b[0m invalid syntax\n"
          ]
        }
      ]
    },
    {
      "cell_type": "code",
      "source": [
        "Q6. Which function of pandas do we use to read an excel file?\n",
        "Ans6.In pandas, you can use the read_excel() function to read data from an Excel file. This function allows you to read the\n",
        "contents of an Excel file into a pandas DataFrame.\n",
        "\n",
        "for eg :\n",
        "df = pd.read_excel('example.xlsx')"
      ],
      "metadata": {
        "colab": {
          "base_uri": "https://localhost:8080/",
          "height": 140
        },
        "id": "xPjB-OdrX3RJ",
        "outputId": "abfc4c06-a26a-4ce5-8e24-9bcccedf5582"
      },
      "execution_count": 7,
      "outputs": [
        {
          "output_type": "error",
          "ename": "SyntaxError",
          "evalue": "ignored",
          "traceback": [
            "\u001b[0;36m  File \u001b[0;32m\"<ipython-input-7-9dfb8f906584>\"\u001b[0;36m, line \u001b[0;32m2\u001b[0m\n\u001b[0;31m    Ans6.In pandas, you can use the read_excel() function to read data from an Excel file. This function allows you to read the\u001b[0m\n\u001b[0m            ^\u001b[0m\n\u001b[0;31mSyntaxError\u001b[0m\u001b[0;31m:\u001b[0m invalid syntax\n"
          ]
        }
      ]
    },
    {
      "cell_type": "code",
      "source": [
        "#Q7. You have a Pandas DataFrame df that contains a column named 'Email' that contains email\n",
        "#addresses in the format 'username@domain.com'. Write a Python function that creates a new column\n",
        "#'Username' in df that contains only the username part of each email address.\n",
        "\n",
        "#Ans7.\n",
        "import pandas as pd\n",
        "\n",
        "data = {\n",
        "    'Email': [\n",
        "        'user1@example.com',\n",
        "        'anotheruser@email.com',\n",
        "        'testuser@testdomain.com'\n",
        "    ]\n",
        "}\n",
        "df = pd.DataFrame(data)\n",
        "\n",
        "def extract_username(email):\n",
        "    return email.split('@')[0]\n",
        "\n",
        "def create_username_column(df):\n",
        "    df['Username'] = df['Email'].apply(lambda x: extract_username(x))\n",
        "    return df\n",
        "\n",
        "\n",
        "df = create_username_column(df)\n",
        "print(df)\n"
      ],
      "metadata": {
        "colab": {
          "base_uri": "https://localhost:8080/"
        },
        "id": "Z88vFvrUYMM0",
        "outputId": "b15451e7-cbf5-4c19-d448-fcbdd9316af3"
      },
      "execution_count": 8,
      "outputs": [
        {
          "output_type": "stream",
          "name": "stdout",
          "text": [
            "                     Email     Username\n",
            "0        user1@example.com        user1\n",
            "1    anotheruser@email.com  anotheruser\n",
            "2  testuser@testdomain.com     testuser\n"
          ]
        }
      ]
    },
    {
      "cell_type": "code",
      "source": [
        "\"\"\" Q8. You have a Pandas DataFrame df with columns 'A', 'B', and 'C'. Write a Python function that selects\n",
        "all rows where the value in column 'A' is greater than 5 and the value in column 'B' is less than 10. The\n",
        "function should return a new DataFrame that contains only the selected rows.\n",
        "For example, if df contains the following values:\n",
        "A B C\n",
        "0 3 5 1\n",
        "1 8 2 7\n",
        "2 6 9 4\n",
        "3 2 3 5\n",
        "4 9 1 2 \"\"\"\n",
        "\n",
        "#Ans8.\n",
        "import pandas as pd\n",
        "\n",
        "data = {\n",
        "    'A': [3, 8, 6, 2, 9],\n",
        "    'B': [5, 2, 9, 3, 1],\n",
        "    'C': [1, 7, 4, 5, 2]\n",
        "}\n",
        "df = pd.DataFrame(data)\n",
        "\n",
        "def filter_dataframe(df):\n",
        "    filtered_df = df[(df['A'] > 5) & (df['B'] < 10)]\n",
        "    return filtered_df\n",
        "\n",
        "\n",
        "result_df = filter_dataframe(df)\n",
        "print(result_df)\n"
      ],
      "metadata": {
        "colab": {
          "base_uri": "https://localhost:8080/"
        },
        "id": "GSkdyLgXY1t1",
        "outputId": "8468e7a8-f0b3-4a20-c4ba-eafa12d8fb40"
      },
      "execution_count": 9,
      "outputs": [
        {
          "output_type": "stream",
          "name": "stdout",
          "text": [
            "   A  B  C\n",
            "1  8  2  7\n",
            "2  6  9  4\n",
            "4  9  1  2\n"
          ]
        }
      ]
    },
    {
      "cell_type": "code",
      "source": [
        "#Q9. Given a Pandas DataFrame df with a column 'Values', write a Python function to calculate the mean,\n",
        "#median, and standard deviation of the values in the 'Values' column.\n",
        "\n",
        "#Ans9.\n",
        "import pandas as pd\n",
        "\n",
        "\n",
        "data = {\n",
        "    'Values': [10, 20, 30, 40, 50]\n",
        "}\n",
        "df = pd.DataFrame(data)\n",
        "\n",
        "def calculate_statistics(df):\n",
        "    mean_value = df['Values'].mean()\n",
        "    median_value = df['Values'].median()\n",
        "    std_value = df['Values'].std()\n",
        "    return mean_value, median_value, std_value\n",
        "\n",
        "\n",
        "mean, median, std = calculate_statistics(df)\n",
        "print(\"Mean:\", mean)\n",
        "print(\"Median:\", median)\n",
        "print(\"Standard Deviation:\", std)\n"
      ],
      "metadata": {
        "colab": {
          "base_uri": "https://localhost:8080/"
        },
        "id": "8eSnKsHDZb9s",
        "outputId": "926f60b4-67a7-4237-cc46-78b6d0a290e2"
      },
      "execution_count": 10,
      "outputs": [
        {
          "output_type": "stream",
          "name": "stdout",
          "text": [
            "Mean: 30.0\n",
            "Median: 30.0\n",
            "Standard Deviation: 15.811388300841896\n"
          ]
        }
      ]
    },
    {
      "cell_type": "code",
      "source": [
        "#Q10. Given a Pandas DataFrame df with a column 'Sales' and a column 'Date', write a Python function to\n",
        "#create a new column 'MovingAverage' that contains the moving average of the sales for the past 7 days\n",
        "#for each row in the DataFrame. The moving average should be calculated using a window of size 7 and\n",
        "#should include the current day.\n",
        "\n",
        "#Ans10.\n",
        "import pandas as pd\n",
        "\n",
        "\n",
        "data = {\n",
        "    'Date': pd.date_range(start='2023-01-01', periods=30),\n",
        "    'Sales': [20, 25, 30, 15, 35, 40, 45, 50, 55, 60, 25, 30, 35, 40, 45, 50, 55, 60, 65, 70, 30, 35, 40, 45, 50, 55, 60, 65, 70, 75]\n",
        "}\n",
        "df = pd.DataFrame(data)\n",
        "\n",
        "def calculate_moving_average(df):\n",
        "    df['MovingAverage'] = df['Sales'].rolling(window=7, min_periods=1).mean()\n",
        "    return df\n",
        "\n",
        "\n",
        "df = calculate_moving_average(df)\n",
        "print(df)\n"
      ],
      "metadata": {
        "colab": {
          "base_uri": "https://localhost:8080/"
        },
        "id": "JB8IAlYkZyS5",
        "outputId": "9b4542ba-627d-413b-d8d4-a85db2effdda"
      },
      "execution_count": 11,
      "outputs": [
        {
          "output_type": "stream",
          "name": "stdout",
          "text": [
            "         Date  Sales  MovingAverage\n",
            "0  2023-01-01     20      20.000000\n",
            "1  2023-01-02     25      22.500000\n",
            "2  2023-01-03     30      25.000000\n",
            "3  2023-01-04     15      22.500000\n",
            "4  2023-01-05     35      25.000000\n",
            "5  2023-01-06     40      27.500000\n",
            "6  2023-01-07     45      30.000000\n",
            "7  2023-01-08     50      34.285714\n",
            "8  2023-01-09     55      38.571429\n",
            "9  2023-01-10     60      42.857143\n",
            "10 2023-01-11     25      44.285714\n",
            "11 2023-01-12     30      43.571429\n",
            "12 2023-01-13     35      42.857143\n",
            "13 2023-01-14     40      42.142857\n",
            "14 2023-01-15     45      41.428571\n",
            "15 2023-01-16     50      40.714286\n",
            "16 2023-01-17     55      40.000000\n",
            "17 2023-01-18     60      45.000000\n",
            "18 2023-01-19     65      50.000000\n",
            "19 2023-01-20     70      55.000000\n",
            "20 2023-01-21     30      53.571429\n",
            "21 2023-01-22     35      52.142857\n",
            "22 2023-01-23     40      50.714286\n",
            "23 2023-01-24     45      49.285714\n",
            "24 2023-01-25     50      47.857143\n",
            "25 2023-01-26     55      46.428571\n",
            "26 2023-01-27     60      45.000000\n",
            "27 2023-01-28     65      50.000000\n",
            "28 2023-01-29     70      55.000000\n",
            "29 2023-01-30     75      60.000000\n"
          ]
        }
      ]
    },
    {
      "cell_type": "code",
      "source": [
        "\"\"\" Q11. You have a Pandas DataFrame df with a column 'Date'. Write a Python function that creates a new\n",
        "column 'Weekday' in the DataFrame. The 'Weekday' column should contain the weekday name (e.g.\n",
        "Monday, Tuesday) corresponding to each date in the 'Date' column.\n",
        "For example, if df contains the following values:\n",
        "Date\n",
        "0 2023-01-01\n",
        "1 2023-01-02\n",
        "2 2023-01-03\n",
        "3 2023-01-04\n",
        "4 2023-01-05\n",
        "Your function should create the following DataFrame:\n",
        "\n",
        "Date Weekday\n",
        "0 2023-01-01 Sunday\n",
        "1 2023-01-02 Monday\n",
        "2 2023-01-03 Tuesday\n",
        "3 2023-01-04 Wednesday\n",
        "4 2023-01-05 Thursday\n",
        "The function should return the modified DataFrame.\"\"\"\n",
        "\n",
        "#Ans11\n",
        "import pandas as pd\n",
        "\n",
        "\n",
        "data = {\n",
        "    'Date': pd.date_range(start='2023-01-01', periods=5)\n",
        "}\n",
        "df = pd.DataFrame(data)\n",
        "\n",
        "def add_weekday_column(df):\n",
        "    df['Weekday'] = df['Date'].dt.day_name()\n",
        "    return df\n",
        "\n",
        "\n",
        "df = add_weekday_column(df)\n",
        "print(df)\n"
      ],
      "metadata": {
        "colab": {
          "base_uri": "https://localhost:8080/"
        },
        "id": "sE9b8Fr1aLHg",
        "outputId": "417c5770-7b22-42ff-efac-7509f42242ce"
      },
      "execution_count": 12,
      "outputs": [
        {
          "output_type": "stream",
          "name": "stdout",
          "text": [
            "        Date    Weekday\n",
            "0 2023-01-01     Sunday\n",
            "1 2023-01-02     Monday\n",
            "2 2023-01-03    Tuesday\n",
            "3 2023-01-04  Wednesday\n",
            "4 2023-01-05   Thursday\n"
          ]
        }
      ]
    },
    {
      "cell_type": "code",
      "source": [
        "#Q12. Given a Pandas DataFrame df with a column 'Date' that contains timestamps, write a Python\n",
        "#function to select all rows where the date is between '2023-01-01' and '2023-01-31'.\n",
        "\n",
        "#Ans12\n",
        "import pandas as pd\n",
        "\n",
        "\n",
        "data = {\n",
        "    'Date': pd.date_range(start='2023-01-01', end='2023-02-28')\n",
        "}\n",
        "df = pd.DataFrame(data)\n",
        "\n",
        "def select_date_range(df):\n",
        "    start_date = '2023-01-01'\n",
        "    end_date = '2023-01-31'\n",
        "    filtered_df = df[(df['Date'] >= start_date) & (df['Date'] <= end_date)]\n",
        "    return filtered_df\n",
        "\n",
        "\n",
        "result_df = select_date_range(df)\n",
        "print(result_df)\n"
      ],
      "metadata": {
        "colab": {
          "base_uri": "https://localhost:8080/"
        },
        "id": "xURxhLm1ajDI",
        "outputId": "ee38af85-4ce6-42d7-b2de-219a7f937b87"
      },
      "execution_count": 13,
      "outputs": [
        {
          "output_type": "stream",
          "name": "stdout",
          "text": [
            "         Date\n",
            "0  2023-01-01\n",
            "1  2023-01-02\n",
            "2  2023-01-03\n",
            "3  2023-01-04\n",
            "4  2023-01-05\n",
            "5  2023-01-06\n",
            "6  2023-01-07\n",
            "7  2023-01-08\n",
            "8  2023-01-09\n",
            "9  2023-01-10\n",
            "10 2023-01-11\n",
            "11 2023-01-12\n",
            "12 2023-01-13\n",
            "13 2023-01-14\n",
            "14 2023-01-15\n",
            "15 2023-01-16\n",
            "16 2023-01-17\n",
            "17 2023-01-18\n",
            "18 2023-01-19\n",
            "19 2023-01-20\n",
            "20 2023-01-21\n",
            "21 2023-01-22\n",
            "22 2023-01-23\n",
            "23 2023-01-24\n",
            "24 2023-01-25\n",
            "25 2023-01-26\n",
            "26 2023-01-27\n",
            "27 2023-01-28\n",
            "28 2023-01-29\n",
            "29 2023-01-30\n",
            "30 2023-01-31\n"
          ]
        }
      ]
    },
    {
      "cell_type": "code",
      "source": [
        "Q13. To use the basic functions of pandas, what is the first and foremost necessary library that needs to\n",
        "be imported?\n",
        "\n",
        "Ans13. The primary library you need to import to use pandas is, unsurprisingly, pandas itself! To begin working with pandas functions and data\n",
        "structures like DataFrames and Series, you should import the pandas library. This is typically done with the following import statement:\n",
        "\n",
        "\n",
        "eg: import pandas as pd\n",
        "\n",
        "\n",
        "\n",
        "\n",
        "\n"
      ],
      "metadata": {
        "colab": {
          "base_uri": "https://localhost:8080/",
          "height": 140
        },
        "id": "_7_x9a7ba3S4",
        "outputId": "95db25b9-d4fc-4d1a-9adc-35179404ff02"
      },
      "execution_count": 14,
      "outputs": [
        {
          "output_type": "error",
          "ename": "SyntaxError",
          "evalue": "ignored",
          "traceback": [
            "\u001b[0;36m  File \u001b[0;32m\"<ipython-input-14-4a68ea6056eb>\"\u001b[0;36m, line \u001b[0;32m1\u001b[0m\n\u001b[0;31m    Q13. To use the basic functions of pandas, what is the first and foremost necessary library that needs to\u001b[0m\n\u001b[0m            ^\u001b[0m\n\u001b[0;31mSyntaxError\u001b[0m\u001b[0;31m:\u001b[0m invalid syntax\n"
          ]
        }
      ]
    },
    {
      "cell_type": "code",
      "source": [],
      "metadata": {
        "id": "mhPlF41ObQ7f"
      },
      "execution_count": null,
      "outputs": []
    }
  ]
}