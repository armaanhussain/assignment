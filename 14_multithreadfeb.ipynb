{
 "cells": [
  {
   "cell_type": "raw",
   "id": "6151686d-3ca5-4e74-b1fb-dc6112de3fec",
   "metadata": {},
   "source": [
    "Q1. Explain why we have to use the Exception class while creating a Custom Exception.\n",
    "Note: Here Exception class refers to the base class for all the exceptions."
   ]
  },
  {
   "cell_type": "raw",
   "id": "bddc3a22-4b36-4136-811c-6cb7abb2439d",
   "metadata": {},
   "source": [
    "Ans1. The Exception class serves as the base class for all built-in exceptions. When you create a custom exception,\n",
    "you are essentially creating a new class that inherits from Exception\n",
    "\n",
    "It is important for the following reasons:\n",
    "1. Uniformity in Error Handling.\n",
    "2.Clear Hierarchy and Organization.\n",
    "3.Built-in Exception Handling Tools.\n"
   ]
  },
  {
   "cell_type": "raw",
   "id": "13ed068d-e55b-44db-a91c-91380adc4866",
   "metadata": {},
   "source": [
    "Q2. Write a python program to print Python Exception Hierarchy."
   ]
  },
  {
   "cell_type": "code",
   "execution_count": null,
   "id": "55d19e17-1ca7-4382-973f-16db110dfe63",
   "metadata": {},
   "outputs": [],
   "source": [
    "#Ans2. \n",
    "import inspect \n",
    "  \n",
    "# our treeClass function \n",
    "def treeClass(cls, ind = 0): \n",
    "    \n",
    "      # print name of the class \n",
    "    print ('-' * ind, cls.__name__) \n",
    "      \n",
    "    # iterating through subclasses \n",
    "    for i in cls.__subclasses__(): \n",
    "        treeClass(i, ind + 3) \n",
    "  \n",
    "print(\"Hierarchy for Built-in exceptions is : \") \n",
    "  \n",
    "# inspect.getmro() Return a tuple  \n",
    "# of class  cls’s base classes. \n",
    "  \n",
    "# building a tree hierarchy  \n",
    "inspect.getclasstree(inspect.getmro(BaseException)) \n",
    "  \n",
    "# function call \n",
    "treeClass(BaseException) "
   ]
  },
  {
   "cell_type": "raw",
   "id": "22316ec6-2f4d-4868-81c0-b591d9fa61a0",
   "metadata": {},
   "source": [
    "Q3. What errors are defined in the ArithmeticError class? Explain any two with an example."
   ]
  },
  {
   "cell_type": "raw",
   "id": "edf3788a-ab99-4f43-af74-946eda5ce5e6",
   "metadata": {},
   "source": [
    "Ans3.  the ArithmeticError class is a base class for arithmetic exceptions. It serves as a parent \n",
    "class for various specific arithmetic exceptions.\n",
    "There are 2 tyoes of Arithmatic Errors.\n",
    "1.ZeroDivisionError :This error is raised when you try to divide a number by zero.\n",
    "\n",
    "a = int(input(\"a\"))\n",
    "b = int(input(\"b\"))\n",
    "try:\n",
    "    c= a/b\n",
    "    print(c)\n",
    "except ZeroDivisionError as e:\n",
    "    print(\"division by zero not possible\")\n",
    "\n",
    "2.FloatingPointError : A FloatingPointError is raised when a floating point operation fails\n",
    "\n",
    "try:\n",
    "    result = 1.0 / 0.0\n",
    "except FloatingPointError as e:\n",
    "    print(f\"An error occurred: {e}\")\n",
    "\n"
   ]
  },
  {
   "cell_type": "raw",
   "id": "79d02965-e9fd-4932-bdea-84e102a34b91",
   "metadata": {},
   "source": [
    "Q4. Why LookupError class is used? Explain with an example KeyError and IndexError."
   ]
  },
  {
   "cell_type": "raw",
   "id": "2dd7a101-5390-40a1-9272-ed765b4d68be",
   "metadata": {},
   "source": [
    "Ans4. The LookupError class in Python is a base class for exceptions that\n",
    "occur when a key or index used to access a mapping or sequence is invalid.KeyError:\n",
    "\n",
    "1.Key Error : This exception is raised when you try to access a dictionary with a key that doesn't exist.\n",
    "For eg:\n",
    "my_dict = {'a': 1, 'b': 2, 'c': 3}\n",
    "print(my_dict['d'])  # This will raise a KeyError because 'd' is not a key in my_dict\n",
    "\n",
    "\n",
    "2.IndexError: This exception is raised when you try to access a sequence (like a list or tuple) with an index that is out of range.\n",
    "For eg:\n",
    "my_list = [1, 2, 3, 4, 5]\n",
    "print(my_list[10])  # This will raise an IndexError because the list has only 5 elements, and index 10 is out of range\n"
   ]
  },
  {
   "cell_type": "raw",
   "id": "763147fd-8c86-4f2e-806d-7efc046bbc79",
   "metadata": {},
   "source": [
    "Q5. Explain ImportError. What is ModuleNotFoundError?"
   ]
  },
  {
   "cell_type": "raw",
   "id": "0fc8dd0b-067b-46c9-aa63-346eb6bd1786",
   "metadata": {},
   "source": [
    "Ans5. ImportError: ImportError is a base class for exceptions that occur when there's a problem with importing a module. \n",
    "This can happen for various reasons, such as a typo in the module name, the module not being installed, or a\n",
    "problem with the module's code.\n",
    "\n",
    "ModuleNotFoundError : ModuleNotFoundError is a specific subclass of ImportError that was introduced in Python 3.6.\n",
    "It is raised when a module could not be found. This could be due to a misspelled module name or the module simply not existing.\n",
    "\n"
   ]
  },
  {
   "cell_type": "raw",
   "id": "ef619452-cc47-4bae-8e99-3e23fd492d8a",
   "metadata": {},
   "source": [
    "Q6. List down some best practices for exception handling in python."
   ]
  },
  {
   "cell_type": "raw",
   "id": "4b71f479-31a0-4332-aac3-d4828056977f",
   "metadata": {},
   "source": [
    "Ans6.Some of the best practice exception handling are as follows:\n",
    "\n",
    "1.Use always a specific exception\n",
    "try :\n",
    "    10/0\n",
    "except Exception as e :\n",
    "    print(e)\n",
    " \n",
    " \n",
    "2. Print always a proper message \n",
    "try :\n",
    "    10/0\n",
    "except ZeroDivisionError as e :\n",
    "    print(\"i am trying to handle a zerodivision error\"  , e)    \n",
    "\n",
    "\n",
    "3.Always try to log your error\n",
    "import logging\n",
    "logging.basicConfig(filename = \"error.log\" , level = logging.ERROR)\n",
    "try :\n",
    "    10/0\n",
    "except ZeroDivisionError as e :\n",
    "    logging.error(\"i am trying to handle a zerodivision error {} \".format(e) )\n",
    "    \n",
    "    \n",
    "4.Document all the error and cleanup all the resources\n",
    "try :\n",
    "    with open(\"test.txt\" , 'w') as f :\n",
    "        f.write(\"this is my data to file \" )\n",
    "except FileNotFoundError as e : \n",
    "    logging.error(\"i am handling file not found  {} \".format(e) )\n",
    "finally :\n",
    "    f.close()    "
   ]
  },
  {
   "cell_type": "code",
   "execution_count": null,
   "id": "67d9b0fa-e906-4f71-9686-6fcdc8dedb4a",
   "metadata": {},
   "outputs": [],
   "source": []
  },
  {
   "cell_type": "code",
   "execution_count": null,
   "id": "b3decd89-3561-4af3-94b4-8752234df332",
   "metadata": {},
   "outputs": [],
   "source": []
  },
  {
   "cell_type": "code",
   "execution_count": null,
   "id": "c289ddd8-e209-411b-afde-ce3d665d29dc",
   "metadata": {},
   "outputs": [],
   "source": []
  },
  {
   "cell_type": "code",
   "execution_count": null,
   "id": "cc5b97ce-a062-4518-9327-5f07cce08918",
   "metadata": {},
   "outputs": [],
   "source": []
  },
  {
   "cell_type": "code",
   "execution_count": null,
   "id": "2073fc02-657f-4644-9b9e-acbd7539629a",
   "metadata": {},
   "outputs": [],
   "source": [
    "\n"
   ]
  }
 ],
 "metadata": {
  "kernelspec": {
   "display_name": "Python 3 (ipykernel)",
   "language": "python",
   "name": "python3"
  },
  "language_info": {
   "codemirror_mode": {
    "name": "ipython",
    "version": 3
   },
   "file_extension": ".py",
   "mimetype": "text/x-python",
   "name": "python",
   "nbconvert_exporter": "python",
   "pygments_lexer": "ipython3",
   "version": "3.10.8"
  }
 },
 "nbformat": 4,
 "nbformat_minor": 5
}
