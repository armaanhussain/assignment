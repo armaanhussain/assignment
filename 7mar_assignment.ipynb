{
  "nbformat": 4,
  "nbformat_minor": 0,
  "metadata": {
    "colab": {
      "provenance": []
    },
    "kernelspec": {
      "name": "python3",
      "display_name": "Python 3"
    },
    "language_info": {
      "name": "python"
    }
  },
  "cells": [
    {
      "cell_type": "code",
      "source": [
        "Q1. What are the three measures of central tendency?\n",
        "Ans1. The three measures of central tendency are:\n",
        "\n",
        "Mean: This is the average of a set of numbers, calculated by adding up all the values\n",
        "and dividing by the total count of values.\n",
        "\n",
        "Median: This is the middle value in a data set when the values are arranged in ascending\n",
        "or descending order. If there is an even number of values, the median is the average of\n",
        "the two middle numbers.\n",
        "\n",
        "Mode: This is the value that appears most frequently in a data set. A data set may have\n",
        "one mode (unimodal), two modes (bimodal), or more (multimodal) if multiple values have the\n",
        "same highest frequency.\n",
        "\n",
        "\n"
      ],
      "metadata": {
        "colab": {
          "base_uri": "https://localhost:8080/",
          "height": 140
        },
        "id": "Df8dVwbJxakb",
        "outputId": "bb382f9a-7fe4-4980-be25-198a46707cf4"
      },
      "execution_count": 1,
      "outputs": [
        {
          "output_type": "error",
          "ename": "SyntaxError",
          "evalue": "ignored",
          "traceback": [
            "\u001b[0;36m  File \u001b[0;32m\"<ipython-input-1-0c7ea7b277cd>\"\u001b[0;36m, line \u001b[0;32m2\u001b[0m\n\u001b[0;31m    Ans1. The three measures of central tendency are:\u001b[0m\n\u001b[0m              ^\u001b[0m\n\u001b[0;31mSyntaxError\u001b[0m\u001b[0;31m:\u001b[0m invalid syntax\n"
          ]
        }
      ]
    },
    {
      "cell_type": "code",
      "source": [
        "Q2. What is the difference between the mean, median, and mode? How are they used to measure the central tendency of a dataset?\n",
        "\n",
        "Ans2. Mean: This is the average of a set of numbers, calculated by adding up all the values\n",
        "and dividing by the total count of values.\n",
        "\n",
        "Median: This is the middle value in a data set when the values are arranged in ascending\n",
        "or descending order. If there is an even number of values, the median is the average of\n",
        "the two middle numbers.\n",
        "\n",
        "Mode: This is the value that appears most frequently in a data set. A data set may have\n",
        "one mode (unimodal), two modes (bimodal), or more (multimodal) if multiple values have the\n",
        "same highest frequency.\n",
        "\n",
        "When choosing which measure of central tendency to use:\n",
        "\n",
        "i.Use the Mean when the data is normally distributed and doesn’t have extreme outliers that could significantly affect the average.\n",
        "ii.Use the Median when the data has outliers or is not symmetrically distributed (skewed), as it's not influenced by extreme values.\n",
        "iii.Use the Mode when you want to identify the most frequent value or category in a dataset, especially with categorical data."
      ],
      "metadata": {
        "colab": {
          "base_uri": "https://localhost:8080/",
          "height": 140
        },
        "id": "rultS3szx4LI",
        "outputId": "36549ea1-d5ea-451e-bacc-6d0cfff458b0"
      },
      "execution_count": 2,
      "outputs": [
        {
          "output_type": "error",
          "ename": "SyntaxError",
          "evalue": "ignored",
          "traceback": [
            "\u001b[0;36m  File \u001b[0;32m\"<ipython-input-2-90be6746f81f>\"\u001b[0;36m, line \u001b[0;32m16\u001b[0m\n\u001b[0;31m    i.Use the Mean when the data is normally distributed and doesn’t have extreme outliers that could significantly affect the average.\u001b[0m\n\u001b[0m                                                                  ^\u001b[0m\n\u001b[0;31mSyntaxError\u001b[0m\u001b[0;31m:\u001b[0m invalid character '’' (U+2019)\n"
          ]
        }
      ]
    },
    {
      "cell_type": "code",
      "source": [
        "#Q3. Measure the three measures of central tendency for the given height data:\n",
        "#[178,177,176,177,178.2,178,175,179,180,175,178.9,176.2,177,172.5,178,176.5]\n",
        "\n",
        "#Ans3.\n",
        "import numpy as np\n",
        "import scipy.stats as stat\n",
        "l= [178,177,176,177,178.2,178,175,179,180,175,178.9,176.2,177,172.5,178,176.5]\n",
        "\n",
        "l_mean = np.mean(l)\n",
        "l_median = np.median(l)\n",
        "l_mode = stat.mode(l)"
      ],
      "metadata": {
        "id": "4846NSPyybMX"
      },
      "execution_count": 3,
      "outputs": []
    },
    {
      "cell_type": "code",
      "source": [
        "#Q4. Find the standard deviation for the given data:\n",
        "#[178,177,176,177,178.2,178,175,179,180,175,178.9,176.2,177,172.5,178,176.5]\n",
        "#Ans4.\n",
        "import numpy as np\n",
        "l1= [178,177,176,177,178.2,178,175,179,180,175,178.9,176.2,177,172.5,178,176.5]\n",
        "l1_std = np.std(l1)"
      ],
      "metadata": {
        "id": "_ExBGTmJzN--"
      },
      "execution_count": 5,
      "outputs": []
    },
    {
      "cell_type": "code",
      "source": [
        "Q5. How are measures of dispersion such as range, variance, and standard deviation used to describe\n",
        "the spread of a dataset? Provide an example.\n",
        "\n",
        "Ans5. Measures of dispersion, such as range, variance, and standard deviation, describe the spread or variability\n",
        " within a dataset:\n",
        "\n",
        "Range: It's the simplest measure of dispersion and represents the difference between the maximum and minimum values in a\n",
        "dataset. It gives a quick overview of how spread out the data points are.\n",
        "\n",
        "Variance: This measure quantifies the average squared deviation of each data point from the mean of the dataset. It provides\n",
        " an understanding of how much the individual data points differ from the mean.\n",
        "\n",
        "Standard Deviation: It's the square root of the variance and measures the average distance of data points from the mean. It's\n",
        "commonly used because it's in the same units as the original data, making it easier to interpret compared to the variance.\n",
        "\n",
        "Example:\n",
        "Consider a dataset of the ages of individuals in a group: {25, 30, 28, 35, 22, 40, 27}. Let's calculate the range, variance, and\n",
        " standard deviation for this dataset.\n",
        "\n",
        "Range: Range = Maximum value - Minimum value\n",
        "Range = 40 - 22 = 18\n",
        "\n",
        "Variance:\n",
        "First, calculate the mean:\n",
        "Mean = (25 + 30 + 28 + 35 + 22 + 40 + 27) / 7 = 27.57 (approximately)\n",
        "\n",
        "Next, calculate the squared differences from the mean for each value:\n",
        "Squared differences: (25 - 27.57)^2, (30 - 27.57)^2, (28 - 27.57)^2, (35 - 27.57)^2, (22 - 27.57)^2, (40 - 27.57)^2, (27 - 27.57)^2\n",
        "\n",
        "Variance = Sum of squared differences / Number of observations\n",
        "Variance ≈ (4.52 + 4.52 + 0.0729 + 53.19 + 31.42 + 155.61 + 0.3025) / 7 ≈ 39.83\n",
        "\n",
        "Standard Deviation:\n",
        "Standard Deviation = Square root of the Variance\n",
        "Standard Deviation ≈ √39.83 ≈ 6.31 (approximately)\n",
        "\n",
        "In this example:\n",
        "\n",
        "The range is 18, indicating the span of ages from the youngest to the oldest.\n",
        "The variance is approximately 39.83, showing the average squared deviation of ages from the mean age.\n",
        "The standard deviation is approximately 6.31, representing the average distance of ages from the mean age."
      ],
      "metadata": {
        "colab": {
          "base_uri": "https://localhost:8080/",
          "height": 140
        },
        "id": "txu29nYt0ZEK",
        "outputId": "dc4fb6ad-f0e7-4d4a-bbff-fda11b9915ac"
      },
      "execution_count": 6,
      "outputs": [
        {
          "output_type": "error",
          "ename": "SyntaxError",
          "evalue": "ignored",
          "traceback": [
            "\u001b[0;36m  File \u001b[0;32m\"<ipython-input-6-de85858c2122>\"\u001b[0;36m, line \u001b[0;32m7\u001b[0m\n\u001b[0;31m    Range: It's the simplest measure of dispersion and represents the difference between the maximum and minimum values in a\u001b[0m\n\u001b[0m             ^\u001b[0m\n\u001b[0;31mSyntaxError\u001b[0m\u001b[0;31m:\u001b[0m unterminated string literal (detected at line 7)\n"
          ]
        }
      ]
    },
    {
      "cell_type": "code",
      "source": [
        "Q6. What is a Venn diagram?\n",
        "Ans6. A Venn diagram is a visual tool displaying relationships between sets or groups. Using overlapping circles or\n",
        "shapes, it illustrates intersections and differences among these sets. Each circle represents a distinct category,\n",
        "and overlaps show shared elements, indicating where categories intersect. Valuable in mathematics, logic, and statistics,\n",
        "Venn diagrams aid in clarifying set theory, logical reasoning, and identifying commonalities and distinctions between\n",
        "diverse concepts or datasets. They offer a clear, intuitive visualization, simplifying complex relationships and enhancing\n",
        "understanding of overlaps and unique characteristics within various groups or ideas.\n",
        "\n"
      ],
      "metadata": {
        "colab": {
          "base_uri": "https://localhost:8080/",
          "height": 140
        },
        "id": "itO3i8Mu0-XT",
        "outputId": "1bd6be34-f13f-4d9c-9b2d-67e12dab8265"
      },
      "execution_count": 7,
      "outputs": [
        {
          "output_type": "error",
          "ename": "SyntaxError",
          "evalue": "ignored",
          "traceback": [
            "\u001b[0;36m  File \u001b[0;32m\"<ipython-input-7-c5567db7fb31>\"\u001b[0;36m, line \u001b[0;32m2\u001b[0m\n\u001b[0;31m    Ans6. A Venn diagram is a visual tool displaying relationships between sets or groups. Using overlapping circles or\u001b[0m\n\u001b[0m            ^\u001b[0m\n\u001b[0;31mSyntaxError\u001b[0m\u001b[0;31m:\u001b[0m invalid syntax\n"
          ]
        }
      ]
    },
    {
      "cell_type": "code",
      "source": [
        "Q7. For the two given sets A = (2,3,4,5,6,7) & B = (0,2,6,8,10). Find:\n",
        "(i) A intersection B\n",
        "(ii) A ⋃ B\n",
        "\n",
        "Ans7.\n",
        "i) A intersection B = (2,6)\n",
        "ii) A U B = (0,2,3,4,5,6,7,8,10)"
      ],
      "metadata": {
        "colab": {
          "base_uri": "https://localhost:8080/",
          "height": 140
        },
        "id": "B5Qi22gb17wv",
        "outputId": "02a2dc59-95e3-4db5-ca1f-910fc02af015"
      },
      "execution_count": 8,
      "outputs": [
        {
          "output_type": "error",
          "ename": "SyntaxError",
          "evalue": "ignored",
          "traceback": [
            "\u001b[0;36m  File \u001b[0;32m\"<ipython-input-8-b46d1cc73470>\"\u001b[0;36m, line \u001b[0;32m3\u001b[0m\n\u001b[0;31m    (ii) A ⋃ B\u001b[0m\n\u001b[0m           ^\u001b[0m\n\u001b[0;31mSyntaxError\u001b[0m\u001b[0;31m:\u001b[0m invalid character '⋃' (U+22C3)\n"
          ]
        }
      ]
    },
    {
      "cell_type": "code",
      "source": [
        "Q8. What do you understand about skewness in data?\n",
        "Ans8.Skewness in data refers to the asymmetry or lack of symmetry in its distribution. It indicates the degree and direction\n",
        "of deviation from a normal distribution.\n",
        "\n",
        "Positive Skewness (Right Skewed): The tail of the distribution extends more towards the higher values, pulling the mean towards\n",
        "the right side. In this case, the majority of the data points cluster towards the lower end, with a few exceptionally high values\n",
        "that elongate the right tail.\n",
        "\n",
        "Negative Skewness (Left Skewed): The tail of the distribution extends more towards the lower values, pulling the mean towards the left\n",
        "side. Here, most data points cluster towards the higher end, with a few extremely low values stretching the left tail."
      ],
      "metadata": {
        "colab": {
          "base_uri": "https://localhost:8080/",
          "height": 140
        },
        "id": "yWDHoKDo2k2b",
        "outputId": "af6fb50a-70f7-4dd6-8a55-0c9f220eaaae"
      },
      "execution_count": 9,
      "outputs": [
        {
          "output_type": "error",
          "ename": "SyntaxError",
          "evalue": "ignored",
          "traceback": [
            "\u001b[0;36m  File \u001b[0;32m\"<ipython-input-9-9d2b55022ae4>\"\u001b[0;36m, line \u001b[0;32m2\u001b[0m\n\u001b[0;31m    Ans8.Skewness in data refers to the asymmetry or lack of symmetry in its distribution. It indicates the degree and direction\u001b[0m\n\u001b[0m                          ^\u001b[0m\n\u001b[0;31mSyntaxError\u001b[0m\u001b[0;31m:\u001b[0m invalid syntax\n"
          ]
        }
      ]
    },
    {
      "cell_type": "code",
      "source": [
        "Q9. If a data is right skewed then what will be the position of median with respect to mean?\n",
        "Ans9. In a right-skewed distribution, the mean is typically greater than the median.\n",
        "In a right-skewed distribution, the tail on the right side (the larger values) is longer than the left tail.\n",
        "The mean is sensitive to extreme values or outliers. In a right-skewed distribution, the presence of relatively\n",
        "larger values on the right side pulls the mean in that direction.\n",
        "The median, however, represents the middle value when the data is arranged in ascending or descending order. It's\n",
        "less influenced by extreme values and is more resistant to skewness. Therefore, in a right-skewed distribution, the median is\n",
        "generally closer to the smaller values, away from the longer tail of larger values on the right, making it smaller than the mean.\n",
        "\n",
        "\n",
        "\n",
        "\n"
      ],
      "metadata": {
        "colab": {
          "base_uri": "https://localhost:8080/",
          "height": 140
        },
        "id": "xldkK-1q2lkm",
        "outputId": "f01e8b4d-af9a-468a-ad53-a17ba95f6eb4"
      },
      "execution_count": 10,
      "outputs": [
        {
          "output_type": "error",
          "ename": "SyntaxError",
          "evalue": "ignored",
          "traceback": [
            "\u001b[0;36m  File \u001b[0;32m\"<ipython-input-10-a412d4c471fc>\"\u001b[0;36m, line \u001b[0;32m6\u001b[0m\n\u001b[0;31m    The median, however, represents the middle value when the data is arranged in ascending or descending order. It's\u001b[0m\n\u001b[0m                                                                                                                   ^\u001b[0m\n\u001b[0;31mSyntaxError\u001b[0m\u001b[0;31m:\u001b[0m unterminated string literal (detected at line 6)\n"
          ]
        }
      ]
    },
    {
      "cell_type": "code",
      "source": [
        "Q10. Explain the difference between covariance and correlation. How are these measures used in\n",
        "statistical analysis?\n",
        "\n",
        "Ans10. Covariance and correlation both measure the relationship between two variables:\n",
        "\n",
        "Covariance indicates the direction of the linear relationship between variables. It measures how much two variables change\n",
        "together. However, its value isn't standardized, making it challenging to interpret without context.\n",
        "\n",
        "Correlation is a standardized measure, ranging from -1 to 1, signifying both the strength and direction of the linear relationship.\n",
        "It's easier to interpret than covariance, allowing comparison between different datasets.\n",
        "\n",
        "Both measures aid in understanding associations between variables in statistical analysis, with correlation being more commonly used due\n",
        "to its standardized scale, offering insights into the strength and nature of relationships.\n",
        "\n"
      ],
      "metadata": {
        "colab": {
          "base_uri": "https://localhost:8080/",
          "height": 140
        },
        "id": "_qEJ0bGd2lmf",
        "outputId": "697f9add-145b-47a9-b5b6-b3252ecc1fc1"
      },
      "execution_count": 11,
      "outputs": [
        {
          "output_type": "error",
          "ename": "SyntaxError",
          "evalue": "ignored",
          "traceback": [
            "\u001b[0;36m  File \u001b[0;32m\"<ipython-input-11-1b71c06a6ccd>\"\u001b[0;36m, line \u001b[0;32m7\u001b[0m\n\u001b[0;31m    together. However, its value isn't standardized, making it challenging to interpret without context.\u001b[0m\n\u001b[0m                                    ^\u001b[0m\n\u001b[0;31mSyntaxError\u001b[0m\u001b[0;31m:\u001b[0m unterminated string literal (detected at line 7)\n"
          ]
        }
      ]
    },
    {
      "cell_type": "code",
      "source": [
        "Q11. What is the formula for calculating the sample mean? Provide an example calculation for a\n",
        "dataset.\n",
        "\n",
        "Ans11. The formula for calculating the sample mean is:\n",
        "\n",
        "Sample Mean\n",
        "n\n",
        "∑ Xi/n\n",
        "i\n",
        "\n",
        "\n",
        "Where:\n",
        "\n",
        "\n",
        "\n",
        "Xi represents each individual value in the dataset.\n",
        "\n",
        "n is the total number of values in the dataset.\n",
        "\n",
        "Example Calculation:\n",
        "Consider a dataset of ages: 25, 30, 35, 40, and 45.\n",
        "\n",
        "To find the sample mean:\n",
        "\n",
        "Sample Mean = 25+30+35+40+45\n",
        "\n",
        "Sample Mean= 25+30+35+40+45/ 5\n",
        "\n",
        "Sample Mean= 35\n",
        "\n",
        "Therefore, the sample mean age for this dataset is 35 years."
      ],
      "metadata": {
        "colab": {
          "base_uri": "https://localhost:8080/",
          "height": 140
        },
        "id": "-VxcConc2log",
        "outputId": "36852975-bbc5-45c3-de48-4a7411f0a1c8"
      },
      "execution_count": 12,
      "outputs": [
        {
          "output_type": "error",
          "ename": "SyntaxError",
          "evalue": "ignored",
          "traceback": [
            "\u001b[0;36m  File \u001b[0;32m\"<ipython-input-12-d21750db3f4c>\"\u001b[0;36m, line \u001b[0;32m8\u001b[0m\n\u001b[0;31m    ∑ Xi/n\u001b[0m\n\u001b[0m    ^\u001b[0m\n\u001b[0;31mSyntaxError\u001b[0m\u001b[0;31m:\u001b[0m invalid character '∑' (U+2211)\n"
          ]
        }
      ]
    },
    {
      "cell_type": "code",
      "source": [
        "Q12. For a normal distribution data what is the relationship between its measure of central tendency?\n",
        "\n",
        "Ans12. In a normal distribution:\n",
        "\n",
        "Mean, Median, and Mode are Equal: For a perfectly symmetrical normal distribution, the mean, median, and mode are\n",
        "all equal and located at the center of the distribution. This is a defining characteristic of a perfectly symmetrical normal curve.\n",
        "\n",
        "Symmetry Around the Mean: The normal distribution is symmetric, meaning that the curve on the left side of the mean is a mirror\n",
        " image of the curve on the right side.\n",
        "\n",
        "While these properties hold true for an idealized normal distribution, in real-world scenarios, slight deviations or imperfections\n",
        "may cause minor differences between the mean, median, and mode, especially in small or skewed datasets. However, in a truly normal\n",
        "distribution, these measures of central tendency coincide, emphasizing the symmetry and balance of the distribution around its central point.\n",
        "\n"
      ],
      "metadata": {
        "colab": {
          "base_uri": "https://localhost:8080/",
          "height": 140
        },
        "id": "WToAMTYX2lqZ",
        "outputId": "a27237fc-152e-40f5-bd90-10d2baa29709"
      },
      "execution_count": 13,
      "outputs": [
        {
          "output_type": "error",
          "ename": "SyntaxError",
          "evalue": "ignored",
          "traceback": [
            "\u001b[0;36m  File \u001b[0;32m\"<ipython-input-13-f9f0a560c0cd>\"\u001b[0;36m, line \u001b[0;32m3\u001b[0m\n\u001b[0;31m    Ans12. In a normal distribution:\u001b[0m\n\u001b[0m              ^\u001b[0m\n\u001b[0;31mSyntaxError\u001b[0m\u001b[0;31m:\u001b[0m invalid syntax\n"
          ]
        }
      ]
    },
    {
      "cell_type": "code",
      "source": [
        "Q13. How is covariance different from correlation?\n",
        "\n",
        "Ans13.\n",
        "\n",
        "Covariance:\n",
        "Measures the direction of the linear relationship between two variables.\n",
        "Indicates whether the variables change together and in which direction (positive or negative).\n",
        "Its value isn't standardized, making it challenging to interpret without context.\n",
        "The magnitude of covariance isn't bounded, so comparing different datasets or variables becomes\n",
        "complex due to the lack of a standardized scale.\n",
        "\n",
        "Correlation:\n",
        "Measures both the strength and direction of the linear relationship between two variables.\n",
        "Provides a standardized measure ranging from -1 to 1.\n",
        "Easier to interpret than covariance, allowing for straightforward comparison between different datasets or variables.\n",
        "A correlation of 1 indicates a perfect positive relationship, -1 indicates a perfect negative relationship, and 0\n",
        "indicates no linear relationship between variables."
      ],
      "metadata": {
        "colab": {
          "base_uri": "https://localhost:8080/",
          "height": 140
        },
        "id": "JdxyYixP2lty",
        "outputId": "1ba3c775-2bbc-40f1-8e22-a29a0f62802d"
      },
      "execution_count": 14,
      "outputs": [
        {
          "output_type": "error",
          "ename": "SyntaxError",
          "evalue": "ignored",
          "traceback": [
            "\u001b[0;36m  File \u001b[0;32m\"<ipython-input-14-656c4846f543>\"\u001b[0;36m, line \u001b[0;32m8\u001b[0m\n\u001b[0;31m    Its value isn't standardized, making it challenging to interpret without context.\u001b[0m\n\u001b[0m                 ^\u001b[0m\n\u001b[0;31mSyntaxError\u001b[0m\u001b[0;31m:\u001b[0m unterminated string literal (detected at line 8)\n"
          ]
        }
      ]
    },
    {
      "cell_type": "code",
      "source": [
        "Q14. How do outliers affect measures of central tendency and dispersion? Provide an example.\n",
        "\n",
        "Ans14.\n",
        "Outliers can significantly impact measures of central tendency and dispersion:\n",
        "\n",
        "Central Tendency:\n",
        "\n",
        "Mean: Outliers can substantially skew the mean. A single extreme value can pull the mean towards it, affecting its accuracy\n",
        "in representing the typical value.\n",
        "Median: Outliers have minimal effect on the median since it's resistant to extreme values. Thus, the median tends to be more\n",
        "robust in the presence of outliers.\n",
        "Mode: Outliers typically have no effect on the mode, as it represents the most frequent value(s) and isn't influenced by extreme values.\n",
        "\n",
        "\n",
        "Dispersion:\n",
        "\n",
        "Range: Outliers can substantially increase the range of the data by introducing exceptionally high or low values.\n",
        "Variance and Standard Deviation: Outliers increase the variability in the dataset, resulting in higher variance and standard deviation, as\n",
        "these measures quantify the spread of data points around the mean. Outliers can increase the squared differences from the mean, leading to larger\n",
        "variance and, consequently, a higher standard deviation.\n",
        "\n",
        "\n",
        "Example:\n",
        "Consider a dataset of salaries: $40,000, $42,000, $45,000, $46,000, $180,000.\n",
        "\n",
        "Mean: Without the outlier ($180,000), the mean salary is $(40,000 + 42,000 + 45,000 + 46,000) / 4 = $43,250. With the outlier, the mean becomes\n",
        "$(40,000 + 42,000 + 45,000 + 46,000 + 180,000) / 5 = $70,600. The presence of the outlier significantly inflates the mean.\n",
        "Median: The median remains unchanged whether the outlier is present or not: $45,000.\n",
        "Standard Deviation: The standard deviation without the outlier is lower compared to when the outlier is included, showing higher variability due to the\n",
        "outlier's influence."
      ],
      "metadata": {
        "colab": {
          "base_uri": "https://localhost:8080/",
          "height": 140
        },
        "id": "LL_JiYHi56yk",
        "outputId": "772d01eb-0d3a-4de0-92ea-79dcc61b81b1"
      },
      "execution_count": 15,
      "outputs": [
        {
          "output_type": "error",
          "ename": "SyntaxError",
          "evalue": "ignored",
          "traceback": [
            "\u001b[0;36m  File \u001b[0;32m\"<ipython-input-15-db059d4da0f1>\"\u001b[0;36m, line \u001b[0;32m10\u001b[0m\n\u001b[0;31m    Median: Outliers have minimal effect on the median since it's resistant to extreme values. Thus, the median tends to be more\u001b[0m\n\u001b[0m                                                               ^\u001b[0m\n\u001b[0;31mSyntaxError\u001b[0m\u001b[0;31m:\u001b[0m unterminated string literal (detected at line 10)\n"
          ]
        }
      ]
    },
    {
      "cell_type": "code",
      "source": [],
      "metadata": {
        "id": "UIy_NxgM57Yy"
      },
      "execution_count": null,
      "outputs": []
    }
  ]
}