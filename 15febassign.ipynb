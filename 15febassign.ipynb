{
 "cells": [
  {
   "cell_type": "raw",
   "id": "7581f4bf-1a9a-4de3-9d98-7a8b71951e9c",
   "metadata": {},
   "source": [
    "Q1. What is multiprocessing in python? Why is it useful?"
   ]
  },
  {
   "cell_type": "raw",
   "id": "65312efb-aafe-4114-a722-1cf41f98c88b",
   "metadata": {},
   "source": [
    "Ans1. Multiprocessing in Python refers to the ability of a program to create and manage multiple \n",
    "processes that can run concurrently. Each process is a separate instance of the Python interpreter,\n",
    "allowing it to execute code independently.\n",
    "It is helpfull because of the following reasons:\n",
    "1.Parallelism\n",
    "2.Avoiding Global Interpreter Lock (GIL)\n",
    "3.Improved Performance\n",
    "4. Resource Intensive Tasks"
   ]
  },
  {
   "cell_type": "raw",
   "id": "033d78b6-1add-4a43-9f79-830d1849d7e0",
   "metadata": {},
   "source": [
    "Q2. What are the differences between multiprocessing and multithreading?"
   ]
  },
  {
   "cell_type": "raw",
   "id": "98f401fd-312f-4e1a-9b4f-413ac43eb0b5",
   "metadata": {},
   "source": [
    "Ans2. \n",
    "Multithreading:\n",
    "Multithreading is the ability of a CPU (or a single core in a multi-core processor) to provide multiple threads \n",
    "of execution concurrently.Threads share the same memory space and resources within a single process. They are lighter\n",
    "weight than processes.Threads within a process share the same memory space. This means they can easily communicate with \n",
    "each other by directly accessing shared variables.\n",
    "\n",
    "\n",
    "Multiprocessing:\n",
    "Multiprocessing is the ability to create multiple processes that run independently and can utilize multiple CPU cores \n",
    "concurrently.Each process has its own memory space and resources. They are separate instances of the Python interpreter.\n",
    "Processes do not share memory, so they do not interfere with each other's data. They require more complex communication\n",
    "mechanisms like pipes, queues, or shared memory.\n"
   ]
  },
  {
   "cell_type": "raw",
   "id": "93435ef1-6613-4f04-9799-979cf8f6c19a",
   "metadata": {},
   "source": [
    "Q3. Write a python code to create a process using the multiprocessing module."
   ]
  },
  {
   "cell_type": "code",
   "execution_count": 1,
   "id": "d92c99ae-179f-4536-a9b4-27295f34d921",
   "metadata": {},
   "outputs": [
    {
     "name": "stdout",
     "output_type": "stream",
     "text": [
      "this is my main prog\n",
      "this is my multiprocessing prog\n"
     ]
    }
   ],
   "source": [
    "#Ans3. \n",
    "import multiprocessing\n",
    "def test():\n",
    "    print(\"this is my multiprocessing prog\")\n",
    "\n",
    "if __name__ == '__main__':\n",
    "    m = multiprocessing.Process(target=test)\n",
    "    print(\"this is my main prog\")\n",
    "    m.start()\n",
    "    m.join()\n"
   ]
  },
  {
   "cell_type": "raw",
   "id": "e0b6640b-16f0-4914-a8b5-808491ce8d08",
   "metadata": {},
   "source": [
    "Q4. What is a multiprocessing pool in python? Why is it used?"
   ]
  },
  {
   "cell_type": "raw",
   "id": "b6bbcacc-d602-4816-8537-ec9a1a6cda3d",
   "metadata": {},
   "source": [
    "Ans4. A multiprocessing pool in Python refers to a high-level parallel processing construct provided by the \n",
    "multiprocessing module. It allows you to efficiently distribute a set of tasks across multiple processes,\n",
    "typically to make use of multiple CPU cores.\n",
    "It is mainly used because of the following reasons:\n",
    "1.It allows you to take full advantage of multi-core processors. Each worker process can work on a different task simultaneously.\n",
    "2.It provides a high-level interface for parallel processing, making it easier to parallelize tasks without managing\n",
    "the details of creating and managing individual processes.\n",
    "3.You can adjust the number of worker processes in the pool based on the available resources, allowing you to scale your \n",
    "parallel processing tasks."
   ]
  },
  {
   "cell_type": "raw",
   "id": "ab40ec0a-3061-4442-9ea1-8dc3a2227475",
   "metadata": {},
   "source": [
    "Q5. How can we create a pool of worker processes in python using the multiprocessing module?"
   ]
  },
  {
   "cell_type": "code",
   "execution_count": null,
   "id": "0df84ec1-daba-4750-9f8c-672ccc8f2dfa",
   "metadata": {},
   "outputs": [],
   "source": [
    "Ans5. "
   ]
  },
  {
   "cell_type": "raw",
   "id": "12f4d096-c82d-4765-8cee-3a3de2e023e9",
   "metadata": {},
   "source": [
    "Q6. Write a python program to create 4 processes, each process should print a different number using the\n",
    "multiprocessing module in python."
   ]
  },
  {
   "cell_type": "code",
   "execution_count": 1,
   "id": "edf79244-2d90-4db3-8573-4e2857834c51",
   "metadata": {},
   "outputs": [
    {
     "name": "stdout",
     "output_type": "stream",
     "text": [
      "Process 1: 1\n",
      "Process 2: 2\n",
      "Process 3: 3\n",
      "Process 4: 4\n",
      "All processes have finished executing.\n"
     ]
    }
   ],
   "source": [
    "#Ans6\n",
    "import multiprocessing\n",
    "\n",
    "def print_number(number):\n",
    "    print(f\"Process {number}: {number}\")\n",
    "\n",
    "if __name__ == \"__main__\":\n",
    "    processes = []\n",
    "\n",
    "    for i in range(1, 5):\n",
    "        process = multiprocessing.Process(target=print_number, args=(i,))\n",
    "        processes.append(process)\n",
    "        process.start()\n",
    "\n",
    "    for process in processes:\n",
    "        process.join()\n",
    "\n",
    "    print(\"All processes finished.\")"
   ]
  },
  {
   "cell_type": "code",
   "execution_count": null,
   "id": "78bf3fb1-1281-4766-b86d-8324c9153408",
   "metadata": {},
   "outputs": [],
   "source": []
  }
 ],
 "metadata": {
  "kernelspec": {
   "display_name": "Python 3 (ipykernel)",
   "language": "python",
   "name": "python3"
  },
  "language_info": {
   "codemirror_mode": {
    "name": "ipython",
    "version": 3
   },
   "file_extension": ".py",
   "mimetype": "text/x-python",
   "name": "python",
   "nbconvert_exporter": "python",
   "pygments_lexer": "ipython3",
   "version": "3.10.8"
  }
 },
 "nbformat": 4,
 "nbformat_minor": 5
}
